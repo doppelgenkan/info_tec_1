{
 "cells": [
  {
   "cell_type": "markdown",
   "metadata": {},
   "source": [
    "# 2&3の課題"
   ]
  },
  {
   "cell_type": "markdown",
   "metadata": {},
   "source": [
    "学生番号："
   ]
  },
  {
   "cell_type": "markdown",
   "metadata": {},
   "source": [
    "氏　　名："
   ]
  },
  {
   "cell_type": "markdown",
   "metadata": {
    "id": "my-pwqAM5EiF"
   },
   "source": [
    "#### ■1.  身長178.5cm、体重69.4kgwの人のBMIを求めよ:"
   ]
  },
  {
   "cell_type": "code",
   "execution_count": null,
   "metadata": {
    "id": "1LKjoUpn5EiF",
    "outputId": "9287a04b-b2eb-4940-f7fb-893e73758263"
   },
   "outputs": [],
   "source": []
  },
  {
   "cell_type": "markdown",
   "metadata": {
    "id": "ae_QfhSS5EiG"
   },
   "source": [
    "> $\\rm{BMI}=\\frac{体重}{身長^2}$　ただし，体重の単位は $\\rm{kgf}$，身長の単位は $\\rm{m}。$"
   ]
  },
  {
   "cell_type": "markdown",
   "metadata": {
    "id": "-6iScrnR5EiG"
   },
   "source": [
    "#### ■2．131072ミリ秒について、分と秒で求めたい。次の手順で求めよ。"
   ]
  },
  {
   "cell_type": "markdown",
   "metadata": {
    "id": "V6oYbiaQ5EiG"
   },
   "source": [
    "□2-1．131072ミリ秒の秒を求めよ："
   ]
  },
  {
   "cell_type": "code",
   "execution_count": null,
   "metadata": {
    "id": "L_wikQ9b5EiG",
    "outputId": "fe611699-374b-4927-b0b7-925018ca0699"
   },
   "outputs": [],
   "source": []
  },
  {
   "cell_type": "markdown",
   "metadata": {
    "id": "f_ONV6E65EiG"
   },
   "source": [
    "> ヒント：ミリ( m )は$\\frac{1}{1000}$のことだ。"
   ]
  },
  {
   "cell_type": "markdown",
   "metadata": {
    "id": "UzznKsow5EiH"
   },
   "source": [
    "□2-2．131072ミリ秒の分を求めよ："
   ]
  },
  {
   "cell_type": "code",
   "execution_count": null,
   "metadata": {
    "id": "MM_-3lXM5EiH",
    "outputId": "01c12123-eec4-422b-8591-5848e2bd7b0b"
   },
   "outputs": [],
   "source": []
  },
  {
   "cell_type": "markdown",
   "metadata": {
    "id": "n-8H0PtF5EiH"
   },
   "source": [
    "□2-3. 131072ミリ秒を何分何秒にしたときの秒を求めよ："
   ]
  },
  {
   "cell_type": "code",
   "execution_count": null,
   "metadata": {
    "id": "PG4R9m2Z5EiH",
    "outputId": "c6158241-9175-4cdb-b65d-1c3b250cd425"
   },
   "outputs": [],
   "source": []
  },
  {
   "cell_type": "markdown",
   "metadata": {
    "id": "sZGpys4-5EiH"
   },
   "source": [
    "□2-4．結局131072ミリ秒は何分何秒か？下のマークダウンセルに答えよ："
   ]
  },
  {
   "cell_type": "markdown",
   "metadata": {
    "id": "MEzFnkY55EiH"
   },
   "source": [
    "（ここをダブルクリックして入力）"
   ]
  },
  {
   "cell_type": "markdown",
   "metadata": {
    "id": "ppiIeHaY5EiH"
   },
   "source": [
    "#### ■3. 直円錐について以下の計算を行いなさい。\n",
    "直円錐の底面の半径を$r$，高さを$h$とする。そのとき，\n",
    "$$\n",
    "体積=\\frac{1}{3}\\times h\\times \\pi r^2\n",
    "$$\n",
    "である。上の公式を用いて，底面半径3, 高さ5の直円錐の体積を求めよう。\n",
    "\n",
    "□3-1. `math`モジュールをインポートせよ："
   ]
  },
  {
   "cell_type": "code",
   "execution_count": null,
   "metadata": {
    "id": "XgjTBrIb5EiH"
   },
   "outputs": [],
   "source": []
  },
  {
   "cell_type": "markdown",
   "metadata": {
    "id": "HlSlkFaf5EiI"
   },
   "source": [
    "□3-2. 直円錐の体積を求めよ："
   ]
  },
  {
   "cell_type": "code",
   "execution_count": null,
   "metadata": {
    "id": "aoaVe4Dv5EiI",
    "outputId": "f302495a-50a4-4b47-9e25-fdd34657b4da"
   },
   "outputs": [],
   "source": []
  },
  {
   "cell_type": "markdown",
   "metadata": {},
   "source": [
    "#### ■4．時間に関する次の問いに答えよ："
   ]
  },
  {
   "cell_type": "markdown",
   "metadata": {},
   "source": [
    "□4-1．1時間は何秒かを計算せよ："
   ]
  },
  {
   "cell_type": "code",
   "execution_count": null,
   "metadata": {},
   "outputs": [],
   "source": []
  },
  {
   "cell_type": "markdown",
   "metadata": {},
   "source": [
    "> １分の秒数に１時間の分数(「ふんすう」←「ぶんすう」では**ない**)を掛ければよい。"
   ]
  },
  {
   "cell_type": "markdown",
   "metadata": {},
   "source": [
    "□4-2．前問の結果(1時間の秒数)を`h2s`という変数に代入して，つ`h2s`の内容を`print`関数を使って表示せよ（１つのセル内で行うこと）："
   ]
  },
  {
   "cell_type": "code",
   "execution_count": null,
   "metadata": {},
   "outputs": [],
   "source": []
  },
  {
   "cell_type": "markdown",
   "metadata": {},
   "source": [
    "> １行目に代入式を入力し，［Enter］を押して２行目に移り，２行目に`print(h2s)`を入力して，実行（［Shift］＋［Enter］）すればよい。  "
   ]
  },
  {
   "cell_type": "markdown",
   "metadata": {},
   "source": [
    "□4-3． 1日の秒数を1-2の`h2s`を使って新たな変数`d2s`に代入し，`d2s`の内容を`print`関数を使って表示せよ（１つのセルで行うこと）："
   ]
  },
  {
   "cell_type": "code",
   "execution_count": null,
   "metadata": {},
   "outputs": [],
   "source": []
  },
  {
   "cell_type": "markdown",
   "metadata": {},
   "source": [
    "□4-4． １年(うるう年を除く)の秒数を1-3の`d2s`を使って新たな変数`cy2s`に代入し，`cy2s`の内容を`print`関数を使って表示せよ（１つのセルで行うこと）："
   ]
  },
  {
   "cell_type": "code",
   "execution_count": null,
   "metadata": {},
   "outputs": [],
   "source": []
  },
  {
   "cell_type": "markdown",
   "metadata": {},
   "source": [
    "□4-5．うるう年を秒数を1-3の`d2s`を使って新たな変数`ly2s`に代入し，`ly2s`の内容を`print`関数を使って表示せよ（１つのセルで行うこと）："
   ]
  },
  {
   "cell_type": "code",
   "execution_count": null,
   "metadata": {},
   "outputs": [],
   "source": []
  },
  {
   "cell_type": "markdown",
   "metadata": {},
   "source": [
    "□4-6．変数`cy2s`と`ly2s`を使って，4年は何秒かを計算し表示せよ："
   ]
  },
  {
   "cell_type": "code",
   "execution_count": null,
   "metadata": {},
   "outputs": [],
   "source": []
  },
  {
   "cell_type": "markdown",
   "metadata": {},
   "source": [
    "#### ■5．次の問いに答えよ："
   ]
  },
  {
   "cell_type": "markdown",
   "metadata": {},
   "source": [
    "□5-1 . 次のコードを実行し結果を確かめよ："
   ]
  },
  {
   "cell_type": "code",
   "execution_count": 7,
   "metadata": {},
   "outputs": [
    {
     "name": "stdout",
     "output_type": "stream",
     "text": [
      "13\n"
     ]
    }
   ],
   "source": [
    "x = 0                #(1)\n",
    "x = x**2 + x + 1    #(2)\n",
    "x = x**2 + x + 1    #(3)\n",
    "x = x**2 + x + 1    #(4)\n",
    "print(x)             #(5)"
   ]
  },
  {
   "cell_type": "markdown",
   "metadata": {},
   "source": [
    "> シャープ（`#`）記号の後ろに続く文字列は，実行時に無視される。したがって，`#`の後ろの`(1)`〜`(5)`は式番号とみなし，以下の問題に使うこと。"
   ]
  },
  {
   "cell_type": "markdown",
   "metadata": {},
   "source": [
    "□5-2. なぜ5-1のような結果が出力されたのかを，下のマークダウンセルに具体的に説明せよ："
   ]
  },
  {
   "cell_type": "markdown",
   "metadata": {},
   "source": [
    "（ここをダブルクリックして入力）  \n"
   ]
  },
  {
   "cell_type": "markdown",
   "metadata": {},
   "source": [
    "#### ■6. 次の問いに答えよ："
   ]
  },
  {
   "cell_type": "markdown",
   "metadata": {},
   "source": [
    "□6-1. 次のコードを実行し結果を確かめよ："
   ]
  },
  {
   "cell_type": "code",
   "execution_count": null,
   "metadata": {},
   "outputs": [],
   "source": [
    "x1 = 0\n",
    "x1 += 20\n",
    "x1 += 20\n",
    "x1 += 20\n",
    "print(x1)"
   ]
  },
  {
   "cell_type": "markdown",
   "metadata": {},
   "source": [
    "□6-2. なぜ6-1のような結果が出力されたのかを，下のマークダウンセルに具体的に説明せよ："
   ]
  },
  {
   "cell_type": "markdown",
   "metadata": {},
   "source": [
    "（ここをダブルクリックして入力）  \n"
   ]
  },
  {
   "cell_type": "markdown",
   "metadata": {},
   "source": [
    "□3-3. 次のコードを実行し結果を確かめよ："
   ]
  },
  {
   "cell_type": "code",
   "execution_count": null,
   "metadata": {},
   "outputs": [],
   "source": [
    "x2 = x1\n",
    "x2 -= 20\n",
    "x2 -= 20\n",
    "x2 -= 20\n",
    "print(x2)"
   ]
  },
  {
   "cell_type": "markdown",
   "metadata": {},
   "source": [
    "□6-4. なぜ6-3のような結果が出力されたのかを，下のマークダウンセルに具体的に説明せよ："
   ]
  },
  {
   "cell_type": "markdown",
   "metadata": {},
   "source": [
    "（ここをダブルクリックして入力）  \n"
   ]
  },
  {
   "cell_type": "markdown",
   "metadata": {},
   "source": [
    "#### ■4. 次の関数を作り，引数を与えて実行せよ。\n",
    "\n",
    "$\\triangle\\mathrm{ABC}$の頂点$\\mathrm{A}$, $\\mathrm{B}$, $\\mathrm{C}$の対辺の長さをそれぞれ，$a$, $b$, $c$とする。また辺$\\mathrm{AB}$と辺$\\mathrm{AC}$で挟まれた角を$\\theta$とする。"
   ]
  },
  {
   "cell_type": "markdown",
   "metadata": {},
   "source": [
    "□7-1. `math`モジュールをインポートせよ："
   ]
  },
  {
   "cell_type": "code",
   "execution_count": null,
   "metadata": {},
   "outputs": [],
   "source": []
  },
  {
   "cell_type": "markdown",
   "metadata": {},
   "source": [
    "□7-2. このとき，$\\mathrm{ABC}$の面積の値を返す関数を`triangle_area(a, b, theta)`という関数名で作成せよ。ここで，左の角の大きさ`theta`は60分法での角の大きさである。ただし，戻り値を返す前に与えられた引数の値を次のように表示すること – 例えば，`a`に`1`，`b`に`2`，`theta`に`30`を指定すると\n",
    "```\n",
    "a = 1, b = 2, theta = 30deg = 0.5235987755982988rad\n",
    "```\n",
    "\n",
    "と表示され（f-stringsを用いる：<a href=\"https://note.nkmk.me/python-f-strings/\">「Pythonのf文字列（フォーマット済み文字列リテラル）の使い方」</a> を見よ），次のような値を返す – ：\n",
    "\n",
    "```\n",
    "0.49999999999999994\n",
    "```\n",
    "\n",
    "以下の公式を参考にするとよい。\n",
    "\n",
    "> 三角形$\\mathrm{ABC}$の面積$S$は，\n",
    "$$\n",
    "S = \\frac{1}{2}ab\\sin{\\theta}\\tag{1}\n",
    "$$\n",
    "で求められる（面積公式）。\n",
    "\n",
    "**ヒント1**：幾らかの数学関数は\n",
    "```\n",
    "import math\n",
    "```\n",
    "で`math`モジュールをインポートして，`math.関数名(値)`で求められる。\n",
    "\n",
    "**ヒント2**：$\\sin$関数は`math.sin(角の大きさ)`で求められる。ただし，左の関数の引数`角の大きさ`は弧度法（ラジアン）での角である。\n",
    "\n",
    "**ヒント3**：60分法の角を弧度法の角に直すには，`math.radians(角の大きさ)`を使う。ここで左の関数の`角の大きさ`は60分法の角である。"
   ]
  },
  {
   "cell_type": "code",
   "execution_count": null,
   "metadata": {},
   "outputs": [],
   "source": []
  },
  {
   "cell_type": "markdown",
   "metadata": {},
   "source": [
    "□4-3. `triangle_area`関数を用いて，$a=b=2$, $\\theta=60^\\circ$のときの三角形の面積を求めよ："
   ]
  },
  {
   "cell_type": "code",
   "execution_count": null,
   "metadata": {},
   "outputs": [],
   "source": []
  },
  {
   "cell_type": "markdown",
   "metadata": {},
   "source": [
    "> この結果は$\\sqrt{3}$の小数点表示と一致する。そうでなければ，4-2のコードが間違っている。"
   ]
  },
  {
   "cell_type": "markdown",
   "metadata": {},
   "source": [
    "□4-4. $a=11$,  $b=12$, $\\theta=148^\\circ$のときの三角形の面積を求めよ："
   ]
  },
  {
   "cell_type": "code",
   "execution_count": null,
   "metadata": {},
   "outputs": [],
   "source": []
  },
  {
   "cell_type": "markdown",
   "metadata": {},
   "source": [
    "□4-5. $\\triangle\\mathrm{ABC}$で$a$, $b$, $\\theta=\\angle{\\mathrm{C}}$が与えられたとき，$a$の値を返す関数を`triangle_side(a, b, theta)`という関数名で作成せよ。ここで，左の角の大きさ`theta`は60分法での角の大きさである。ただし，戻り値を返す前に与えられた引数の値を次のように表示すること – 例えば，`a`に`1`，`b`に`2`，`theta`に`30`を指定すると\n",
    "```\n",
    "a = 1, b = 2, theta = 30deg = 0.5235987755982988rad\n",
    "```\n",
    "と表示され，次のような値を返す – ：\n",
    "```\n",
    "1.2393136749274758\n",
    "```\n",
    "以下の公式を参考にするとよい。\n",
    "\n",
    "> $\\mathrm{ABC}$で，$\\mathrm{BC}=a$, $\\mathrm{AC}=b$, $\\angle{\\mathrm{C}}=\\theta$のとき，$\\mathrm{AB}=c$は，\n",
    "$$\n",
    "c^2 = a^2+b^2-2ab\\cos\\theta \\ \\rightarrow\\ c = \\sqrt{c^2}\\ \\ \\ (c > 0)\\tag{2}\n",
    "$$\n",
    "で求められる（余弦定理）。\n",
    "\n",
    "**ヒント4**：$\\cos$関数は`math.cos(角の大きさ)`で求められる。ただし，左の関数の引数`角の大きさ`は弧度法（ラジアン）での角である。ヒント3も合わせて考えよ。\n"
   ]
  },
  {
   "cell_type": "code",
   "execution_count": null,
   "metadata": {},
   "outputs": [],
   "source": []
  },
  {
   "cell_type": "markdown",
   "metadata": {},
   "source": [
    "□4-6. $b=c=1$, $\\theta=60^\\circ$のときの$a$の値を求めよ："
   ]
  },
  {
   "cell_type": "code",
   "execution_count": null,
   "metadata": {},
   "outputs": [],
   "source": []
  },
  {
   "cell_type": "markdown",
   "metadata": {},
   "source": [
    ">  $b=c=1$, $\\theta=60^\\circ$は１辺の長さが1の正三角形であるから，この結果は1でなければならない。ただし，計算誤差がでる。"
   ]
  },
  {
   "cell_type": "markdown",
   "metadata": {},
   "source": [
    "□4-7.  $b=13$, $c=14$, $\\theta=111^\\circ$のときの$a$の値を求めよ："
   ]
  },
  {
   "cell_type": "code",
   "execution_count": null,
   "metadata": {},
   "outputs": [],
   "source": []
  },
  {
   "cell_type": "code",
   "execution_count": null,
   "metadata": {},
   "outputs": [],
   "source": []
  }
 ],
 "metadata": {
  "kernelspec": {
   "display_name": "Python 3 (ipykernel)",
   "language": "python",
   "name": "python3"
  },
  "language_info": {
   "codemirror_mode": {
    "name": "ipython",
    "version": 3
   },
   "file_extension": ".py",
   "mimetype": "text/x-python",
   "name": "python",
   "nbconvert_exporter": "python",
   "pygments_lexer": "ipython3",
   "version": "3.11.5"
  }
 },
 "nbformat": 4,
 "nbformat_minor": 4
}
