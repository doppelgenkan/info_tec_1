{
 "cells": [
  {
   "cell_type": "markdown",
   "id": "53b5babc-9fdf-4c6e-beed-92364d882d0d",
   "metadata": {
    "id": "53b5babc-9fdf-4c6e-beed-92364d882d0d"
   },
   "source": [
    "# 7の課題"
   ]
  },
  {
   "cell_type": "markdown",
   "id": "f318f089-c99c-4010-8a0c-b11bf7a3194b",
   "metadata": {
    "id": "f318f089-c99c-4010-8a0c-b11bf7a3194b"
   },
   "source": [
    "学籍番号："
   ]
  },
  {
   "cell_type": "markdown",
   "id": "efadbdf2-c98e-4387-ab1d-b73ea7f534f2",
   "metadata": {
    "id": "efadbdf2-c98e-4387-ab1d-b73ea7f534f2"
   },
   "source": [
    "氏　　名："
   ]
  },
  {
   "cell_type": "code",
   "execution_count": 1,
   "id": "db0f8f7d-666d-4e95-a7c6-f366ae0fcb21",
   "metadata": {},
   "outputs": [],
   "source": [
    "import sympy as sp\n",
    "\n",
    "pi_val = sp.N(sp.pi, 100000000)\n",
    "pi_lis = [int(i) for i in str(pi_val).replace('.', '')]"
   ]
  },
  {
   "cell_type": "markdown",
   "id": "43b38fb1-b70c-4913-9977-5081e83e2a3c",
   "metadata": {
    "id": "43b38fb1-b70c-4913-9977-5081e83e2a3c"
   },
   "source": [
    "□2-2. 円周率$\\pi$の小数第99999999位まである１桁の数の個数（すべての数の個数は100000000個）を，長さ10（10個の要素）のリスト`cnt_lis`に求めたい。つまり，`cnt_lis`の，インデックス0には0の個数，インデックス1には1の個数，インデックス2には2の個数，...，インデックス9には9の個数が入る。以下のコードの３行目をコーディングして実行し，`cnt_lis`の内容を表示せよ。"
   ]
  },
  {
   "cell_type": "code",
   "execution_count": 2,
   "id": "b3bd44cf-4bbf-47dd-a3c3-08448c66579f",
   "metadata": {
    "colab": {
     "base_uri": "https://localhost:8080/"
    },
    "executionInfo": {
     "elapsed": 266,
     "status": "ok",
     "timestamp": 1710733388917,
     "user": {
      "displayName": "橘浩久",
      "userId": "05113735281608269160"
     },
     "user_tz": -540
    },
    "id": "b3bd44cf-4bbf-47dd-a3c3-08448c66579f",
    "outputId": "5ff4c80d-7a18-4ead-bbd5-8440a91598a5"
   },
   "outputs": [
    {
     "name": "stdout",
     "output_type": "stream",
     "text": [
      "[9999922, 10002475, 10001091, 9998443, 10003863, 9993478, 9999417, 9999610, 10002180, 9999521]\n",
      "CPU times: user 2.9 s, sys: 1.15 ms, total: 2.9 s\n",
      "Wall time: 2.9 s\n"
     ]
    }
   ],
   "source": [
    "%%time\n",
    "cnt_lis = [0]*10\n",
    "for k in pi_lis:\n",
    "    cnt_lis[k] += 1   #この行をコーディングせよ\n",
    "print(cnt_lis)"
   ]
  },
  {
   "cell_type": "markdown",
   "id": "a42d1b4d-1aa8-48bf-afe6-3a7d3291f8bd",
   "metadata": {},
   "source": [
    "*□2-2の別解. 下記のように`count`関数を用いると`for`ループが10回で済む（2-2は100000000回のループ）ので，上のコードより圧倒的に速い（と考えたが，結果では上の方が速い...countメソッドがボトルネックか？）。ただし，Chapter 7までに`range`関数が出てこないのでここではこの解答は避けることにする。*"
   ]
  },
  {
   "cell_type": "code",
   "execution_count": 3,
   "id": "i_O4TiGppFz-",
   "metadata": {
    "colab": {
     "base_uri": "https://localhost:8080/"
    },
    "executionInfo": {
     "elapsed": 255,
     "status": "ok",
     "timestamp": 1710733442229,
     "user": {
      "displayName": "橘浩久",
      "userId": "05113735281608269160"
     },
     "user_tz": -540
    },
    "id": "i_O4TiGppFz-",
    "outputId": "033ccfc0-5a9a-4e29-b050-b5ab40994669"
   },
   "outputs": [
    {
     "name": "stdout",
     "output_type": "stream",
     "text": [
      "[9999922, 10002475, 10001091, 9998443, 10003863, 9993478, 9999417, 9999610, 10002180, 9999521]\n",
      "CPU times: user 4.45 s, sys: 4.15 ms, total: 4.46 s\n",
      "Wall time: 4.45 s\n"
     ]
    }
   ],
   "source": [
    "%%time\n",
    "cnt_lis1 = [0]*10\n",
    "for k in range(10):\n",
    "    cnt_lis1[k] = pi_lis.count(k)\n",
    "print(cnt_lis1)"
   ]
  },
  {
   "cell_type": "code",
   "execution_count": null,
   "id": "357c1451-bd16-488e-80d9-89d2457e01e5",
   "metadata": {},
   "outputs": [],
   "source": []
  }
 ],
 "metadata": {
  "colab": {
   "provenance": []
  },
  "kernelspec": {
   "display_name": "Python 3 (ipykernel)",
   "language": "python",
   "name": "python3"
  },
  "language_info": {
   "codemirror_mode": {
    "name": "ipython",
    "version": 3
   },
   "file_extension": ".py",
   "mimetype": "text/x-python",
   "name": "python",
   "nbconvert_exporter": "python",
   "pygments_lexer": "ipython3",
   "version": "3.11.5"
  }
 },
 "nbformat": 4,
 "nbformat_minor": 5
}
