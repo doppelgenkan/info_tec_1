{
 "cells": [
  {
   "cell_type": "markdown",
   "id": "53b5babc-9fdf-4c6e-beed-92364d882d0d",
   "metadata": {},
   "source": [
    "# 7の課題"
   ]
  },
  {
   "cell_type": "markdown",
   "id": "f318f089-c99c-4010-8a0c-b11bf7a3194b",
   "metadata": {},
   "source": [
    "学籍番号："
   ]
  },
  {
   "cell_type": "markdown",
   "id": "efadbdf2-c98e-4387-ab1d-b73ea7f534f2",
   "metadata": {},
   "source": [
    "氏　　名："
   ]
  },
  {
   "cell_type": "markdown",
   "id": "d7b27864-4bf5-495b-8deb-cb857a069776",
   "metadata": {},
   "source": [
    "■1. リストに関する以下の問題に答えよ。"
   ]
  },
  {
   "cell_type": "markdown",
   "id": "0184518a-cef2-4fa1-9ee1-0613ac6a41a0",
   "metadata": {},
   "source": [
    "□1-1. 以下のセルを実行（【shift】＋【enter】）すると自動的にリストが生成される。実行してみよ。  \n",
    "> 以下のセルのコードは今のところ何のことかさっぱり分からなくてよい。そのうち分かるようになる。"
   ]
  },
  {
   "cell_type": "code",
   "execution_count": 32,
   "id": "b46dd47c-1c5e-4820-a175-260ce9109f90",
   "metadata": {},
   "outputs": [],
   "source": [
    "import random\n",
    "elis = [2 * random.randint(1, 5) for _ in range(random.randint(10, 20))]\n",
    "olis = [2 * random.randint(1, 5) - 1 for _ in range(random.randint(10, 20))]\n",
    "clis = [chr(65+32+random.randint(0,25)) for _ in range(random.randint(10, 20))]"
   ]
  },
  {
   "cell_type": "markdown",
   "id": "b10a865f-5f0c-42de-b1be-7040c275e790",
   "metadata": {},
   "source": [
    "> - `elis`は 1 ~ 10のランダムな偶数のリスト（順序不定かつ重複あり）\n",
    "> - `olis`は 1 ~ 10のランダムな奇数のリスト（順序不定かつ重複あり）\n",
    "> - `clis` 'a' ~ 'z'のランダムな文字のリスト（順序不定かつ重複あり）\n",
    "\n",
    "> また，それぞれのリストの長さ（要素数）は10 ~ 20の範囲にあり，それぞれ異なる。"
   ]
  },
  {
   "cell_type": "markdown",
   "id": "699f8c26-06c8-443e-8988-4b7ba6811a67",
   "metadata": {},
   "source": [
    "□1-2. それぞれのリストの内容を`print`関数を用いて表示せよ。"
   ]
  },
  {
   "cell_type": "code",
   "execution_count": 33,
   "id": "cc27678e-8c96-486b-b238-69b624ff8027",
   "metadata": {},
   "outputs": [
    {
     "name": "stdout",
     "output_type": "stream",
     "text": [
      "[2, 2, 4, 4, 2, 10, 4, 10, 4, 8, 8, 2]\n",
      "[3, 5, 1, 7, 3, 1, 5, 7, 5, 5, 5, 7, 7, 3, 5]\n",
      "['a', 'u', 'f', 'l', 'a', 'w', 'j', 'b', 'p', 'c', 's', 'u', 'm', 'e', 'j']\n"
     ]
    }
   ],
   "source": [
    "print(elis)\n",
    "print(olis)\n",
    "print(clis)"
   ]
  },
  {
   "cell_type": "markdown",
   "id": "639c5fc1-2d18-422a-9905-66c7317c2748",
   "metadata": {},
   "source": [
    "□1-3. それぞれのリストの長さを`print`関数を用いて表示せよ。ただし，`print`関数の引数は**f-string**mを用いて，以下の例のように表示すること（各々のNotebookの生成されるリストが異なるので以下の例のとおりには**ならない**ことに注意）。\n",
    "\n",
    "【表示例】\n",
    "```\n",
    "elisの長さは16です。\n",
    "olisの長さは11です。\n",
    "clisの長さは18です。\n",
    "```"
   ]
  },
  {
   "cell_type": "code",
   "execution_count": 34,
   "id": "840b8bcb-9bfa-40d7-b0de-05a20db70887",
   "metadata": {},
   "outputs": [
    {
     "name": "stdout",
     "output_type": "stream",
     "text": [
      "elisの長さは12です。\n",
      "olisの長さは15です。\n",
      "clisの長さは15です。\n"
     ]
    }
   ],
   "source": [
    "print(f'elisの長さは{len(elis)}です。')\n",
    "print(f'olisの長さは{len(olis)}です。')\n",
    "print(f'clisの長さは{len(clis)}です。')"
   ]
  },
  {
   "cell_type": "markdown",
   "id": "fd1d64d7-bd03-463c-8d51-1daa52ba679c",
   "metadata": {},
   "source": [
    "□1-3. `elis`の5番目，`olis`の9番目，`clis`の6番目の要素を`print`関数を用いて表示せよ。"
   ]
  },
  {
   "cell_type": "code",
   "execution_count": 35,
   "id": "9496b8be-ddaf-450d-a2d2-8cd610ddd50a",
   "metadata": {},
   "outputs": [
    {
     "name": "stdout",
     "output_type": "stream",
     "text": [
      "2\n",
      "5\n",
      "w\n"
     ]
    }
   ],
   "source": [
    "print(elis[4])\n",
    "print(olis[8])\n",
    "print(clis[5])"
   ]
  },
  {
   "cell_type": "code",
   "execution_count": 43,
   "id": "81c5c2ac-22f0-48e9-b296-8b9fba843ab6",
   "metadata": {},
   "outputs": [
    {
     "data": {
      "text/plain": [
       "[8, 8, 2]"
      ]
     },
     "execution_count": 43,
     "metadata": {},
     "output_type": "execute_result"
    }
   ],
   "source": [
    "elis[9:23]"
   ]
  },
  {
   "cell_type": "code",
   "execution_count": 26,
   "id": "13f58b78-e648-4631-b533-14546238ec22",
   "metadata": {},
   "outputs": [
    {
     "ename": "NameError",
     "evalue": "name 'even_lis' is not defined",
     "output_type": "error",
     "traceback": [
      "\u001b[0;31m---------------------------------------------------------------------------\u001b[0m",
      "\u001b[0;31mNameError\u001b[0m                                 Traceback (most recent call last)",
      "Cell \u001b[0;32mIn[26], line 1\u001b[0m\n\u001b[0;32m----> 1\u001b[0m \u001b[38;5;28msum\u001b[39m(even_lis)\n",
      "\u001b[0;31mNameError\u001b[0m: name 'even_lis' is not defined"
     ]
    }
   ],
   "source": [
    "sum(even_lis)"
   ]
  },
  {
   "cell_type": "code",
   "execution_count": 27,
   "id": "0f0137d5-3b08-4174-b532-20cff487aef0",
   "metadata": {},
   "outputs": [
    {
     "data": {
      "text/plain": [
       "\u001b[0;31mSignature:\u001b[0m \u001b[0mrandom\u001b[0m\u001b[0;34m.\u001b[0m\u001b[0mrandint\u001b[0m\u001b[0;34m(\u001b[0m\u001b[0ma\u001b[0m\u001b[0;34m,\u001b[0m \u001b[0mb\u001b[0m\u001b[0;34m)\u001b[0m\u001b[0;34m\u001b[0m\u001b[0;34m\u001b[0m\u001b[0m\n",
       "\u001b[0;31mDocstring:\u001b[0m\n",
       "Return random integer in range [a, b], including both end points.\n",
       "        \n",
       "\u001b[0;31mFile:\u001b[0m      ~/anaconda3/lib/python3.11/random.py\n",
       "\u001b[0;31mType:\u001b[0m      method"
      ]
     },
     "metadata": {},
     "output_type": "display_data"
    }
   ],
   "source": [
    "random.randint?"
   ]
  },
  {
   "cell_type": "code",
   "execution_count": null,
   "id": "eb41adc6-2c90-4fab-92ad-4f5d210335fa",
   "metadata": {},
   "outputs": [],
   "source": []
  }
 ],
 "metadata": {
  "kernelspec": {
   "display_name": "Python 3 (ipykernel)",
   "language": "python",
   "name": "python3"
  },
  "language_info": {
   "codemirror_mode": {
    "name": "ipython",
    "version": 3
   },
   "file_extension": ".py",
   "mimetype": "text/x-python",
   "name": "python",
   "nbconvert_exporter": "python",
   "pygments_lexer": "ipython3",
   "version": "3.11.5"
  }
 },
 "nbformat": 4,
 "nbformat_minor": 5
}
