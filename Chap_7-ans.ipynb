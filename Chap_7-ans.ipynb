{
 "cells": [
  {
   "cell_type": "markdown",
   "id": "53b5babc-9fdf-4c6e-beed-92364d882d0d",
   "metadata": {},
   "source": [
    "# 7の課題"
   ]
  },
  {
   "cell_type": "markdown",
   "id": "f318f089-c99c-4010-8a0c-b11bf7a3194b",
   "metadata": {},
   "source": [
    "学籍番号："
   ]
  },
  {
   "cell_type": "markdown",
   "id": "efadbdf2-c98e-4387-ab1d-b73ea7f534f2",
   "metadata": {},
   "source": [
    "氏　　名："
   ]
  },
  {
   "cell_type": "markdown",
   "id": "d7b27864-4bf5-495b-8deb-cb857a069776",
   "metadata": {},
   "source": [
    "■1. リストに関する以下の問題に答えよ。"
   ]
  },
  {
   "cell_type": "markdown",
   "id": "0184518a-cef2-4fa1-9ee1-0613ac6a41a0",
   "metadata": {},
   "source": [
    "□1-1. 以下のセルを実行（【shift】＋【enter】）すると自動的にリストが生成される。実行してみよ。  \n",
    "> 以下のセルのコードは今のところ何のことかさっぱり分からなくてよい。そのうち分かるようになる。"
   ]
  },
  {
   "cell_type": "code",
   "execution_count": 1,
   "id": "b46dd47c-1c5e-4820-a175-260ce9109f90",
   "metadata": {},
   "outputs": [],
   "source": [
    "import random\n",
    "elis = [2 * random.randint(1, 5) for _ in range(random.randint(10, 20))]\n",
    "olis = [2 * random.randint(1, 5) - 1 for _ in range(random.randint(10, 20))]\n",
    "clis = [chr(65+32+random.randint(0,25)) for _ in range(random.randint(10, 20))]"
   ]
  },
  {
   "cell_type": "markdown",
   "id": "b10a865f-5f0c-42de-b1be-7040c275e790",
   "metadata": {},
   "source": [
    "> - `elis`は 1 ~ 10のランダムな偶数のリスト（順序不定かつ重複あり）\n",
    "> - `olis`は 1 ~ 10のランダムな奇数のリスト（順序不定かつ重複あり）\n",
    "> - `clis` 'a' ~ 'z'のランダムな文字のリスト（順序不定かつ重複あり）\n",
    "\n",
    "> また，それぞれのリストの長さ（要素数）は10 ~ 20の範囲にあり，それぞれ異なる。"
   ]
  },
  {
   "cell_type": "markdown",
   "id": "699f8c26-06c8-443e-8988-4b7ba6811a67",
   "metadata": {},
   "source": [
    "□1-2. それぞれのリストの内容を`print`関数を用いて表示せよ。"
   ]
  },
  {
   "cell_type": "code",
   "execution_count": 2,
   "id": "cc27678e-8c96-486b-b238-69b624ff8027",
   "metadata": {},
   "outputs": [
    {
     "name": "stdout",
     "output_type": "stream",
     "text": [
      "[6, 2, 6, 8, 8, 4, 8, 4, 2, 6, 8, 10, 4, 10, 6, 8]\n",
      "[1, 5, 7, 5, 3, 9, 7, 9, 9, 1, 7, 7, 3, 1, 9]\n",
      "['w', 'j', 'g', 't', 'p', 'p', 'h', 't', 'e', 'm', 'k', 'm', 'a', 'o', 'a', 'o', 'b', 'w']\n"
     ]
    }
   ],
   "source": [
    "print(elis)\n",
    "print(olis)\n",
    "print(clis)"
   ]
  },
  {
   "cell_type": "markdown",
   "id": "639c5fc1-2d18-422a-9905-66c7317c2748",
   "metadata": {},
   "source": [
    "□1-3. それぞれのリストの長さを`print`関数を用いて表示せよ。ただし，`print`関数の引数は**f-string**を用いて，以下の例のように表示すること（各々のNotebookの生成されるリストが異なるので以下の例のとおりには**ならない**ことに注意）。\n",
    "\n",
    "【表示例】\n",
    "```\n",
    "elisの長さは16です。\n",
    "olisの長さは11です。\n",
    "clisの長さは18です。\n",
    "```"
   ]
  },
  {
   "cell_type": "code",
   "execution_count": 3,
   "id": "840b8bcb-9bfa-40d7-b0de-05a20db70887",
   "metadata": {},
   "outputs": [
    {
     "name": "stdout",
     "output_type": "stream",
     "text": [
      "elisの長さは16です。\n",
      "olisの長さは15です。\n",
      "clisの長さは18です。\n"
     ]
    }
   ],
   "source": [
    "print(f'elisの長さは{len(elis)}です。')\n",
    "print(f'olisの長さは{len(olis)}です。')\n",
    "print(f'clisの長さは{len(clis)}です。')"
   ]
  },
  {
   "cell_type": "markdown",
   "id": "fd1d64d7-bd03-463c-8d51-1daa52ba679c",
   "metadata": {},
   "source": [
    "□1-3. `elis`の5番目，`olis`の9番目，`clis`の6番目の要素を`print`関数を用いて表示せよ。"
   ]
  },
  {
   "cell_type": "code",
   "execution_count": 4,
   "id": "9496b8be-ddaf-450d-a2d2-8cd610ddd50a",
   "metadata": {},
   "outputs": [
    {
     "name": "stdout",
     "output_type": "stream",
     "text": [
      "8\n",
      "9\n",
      "p\n"
     ]
    }
   ],
   "source": [
    "print(elis[4])\n",
    "print(olis[8])\n",
    "print(clis[5])"
   ]
  },
  {
   "cell_type": "markdown",
   "id": "93201b32-3bf1-4259-8f49-3d7bedf8086d",
   "metadata": {},
   "source": [
    "□1-4. `elis`の6番目（インデックス5）から最後の要素の１つ手前までスライスせよ（`print`関数を使わなくてもよい）。"
   ]
  },
  {
   "cell_type": "code",
   "execution_count": 5,
   "id": "81c5c2ac-22f0-48e9-b296-8b9fba843ab6",
   "metadata": {},
   "outputs": [
    {
     "data": {
      "text/plain": [
       "[4, 8, 4, 2, 6, 8, 10, 4, 10, 6]"
      ]
     },
     "execution_count": 5,
     "metadata": {},
     "output_type": "execute_result"
    }
   ],
   "source": [
    "elis[5: -1]"
   ]
  },
  {
   "cell_type": "markdown",
   "id": "00d74b61-756a-46aa-b493-aace80fede6a",
   "metadata": {},
   "source": [
    "□1-5. `olis`の8番目（インデックス7）から最後の要素の２つ手前までスライスせよ（`print`関数を使わなくてもよい）。"
   ]
  },
  {
   "cell_type": "code",
   "execution_count": 6,
   "id": "5c8f745f-f7dd-4cf3-943f-8e62b0bfd3d8",
   "metadata": {},
   "outputs": [
    {
     "data": {
      "text/plain": [
       "[9, 9, 1, 7, 7, 3]"
      ]
     },
     "execution_count": 6,
     "metadata": {},
     "output_type": "execute_result"
    }
   ],
   "source": [
    "olis[7: -2]"
   ]
  },
  {
   "cell_type": "markdown",
   "id": "c0d5d845-e372-414e-8b13-6b09c9dca86f",
   "metadata": {},
   "source": [
    "□1-6. `clis`の3番目（インデックス2）から最後の要素の３つ手前までスライスせよ（`print`関数を使わなくてもよい）。"
   ]
  },
  {
   "cell_type": "code",
   "execution_count": 7,
   "id": "dd8ae321-c28e-44a1-bb0f-41a469ccff2a",
   "metadata": {},
   "outputs": [
    {
     "data": {
      "text/plain": [
       "['g', 't', 'p', 'p', 'h', 't', 'e', 'm', 'k', 'm', 'a', 'o', 'a']"
      ]
     },
     "execution_count": 7,
     "metadata": {},
     "output_type": "execute_result"
    }
   ],
   "source": [
    "clis[2: -3]"
   ]
  },
  {
   "cell_type": "markdown",
   "id": "b7326dda-af86-45cf-809e-7d6ed40090bb",
   "metadata": {},
   "source": [
    "□1-7. `elis`と`olis`を結合したリストを変数`eolis`に代入し，`nlis`の内容を`print`関数を用いて表示せよ。"
   ]
  },
  {
   "cell_type": "code",
   "execution_count": 8,
   "id": "0989d645-2587-4e31-b218-c85aea6765e6",
   "metadata": {},
   "outputs": [
    {
     "name": "stdout",
     "output_type": "stream",
     "text": [
      "[6, 2, 6, 8, 8, 4, 8, 4, 2, 6, 8, 10, 4, 10, 6, 8, 1, 5, 7, 5, 3, 9, 7, 9, 9, 1, 7, 7, 3, 1, 9]\n"
     ]
    }
   ],
   "source": [
    "nlis = elis + olis\n",
    "print(nlis)"
   ]
  },
  {
   "cell_type": "markdown",
   "id": "3d0dd8d1-6c65-4ee3-a290-01e3fd4b53b6",
   "metadata": {},
   "source": [
    "□1-8. `nlis`の14番目（インデックス13）から17番目（インデックス16）の要素に`clis`の５番目（インデックス4）から８番目（インデックス7）の要素を代入し，`print`関数を用いて`nlis`の内容を表示せよ。"
   ]
  },
  {
   "cell_type": "code",
   "execution_count": 9,
   "id": "7e79a7e4-9104-4126-98fd-671a325f072f",
   "metadata": {},
   "outputs": [
    {
     "name": "stdout",
     "output_type": "stream",
     "text": [
      "[6, 2, 6, 8, 8, 4, 8, 4, 2, 6, 8, 10, 4, 'p', 'p', 'h', 't', 5, 7, 5, 3, 9, 7, 9, 9, 1, 7, 7, 3, 1, 9]\n"
     ]
    }
   ],
   "source": [
    "nlis[13:17] = clis[4:8]\n",
    "print(nlis)"
   ]
  },
  {
   "cell_type": "markdown",
   "id": "a7e16d60-54ac-4330-a201-433da034f104",
   "metadata": {},
   "source": [
    "□1-9. `clis`を昇順（'a','b',...,'z'順）に並び替えその内容を`print`関数を使って表示せよ。ただし，並び替えは（関数ではなく）メソッドを使用すること。"
   ]
  },
  {
   "cell_type": "code",
   "execution_count": 13,
   "id": "61d510f4-c6f5-4d63-b894-a51cb528d8c3",
   "metadata": {},
   "outputs": [
    {
     "name": "stdout",
     "output_type": "stream",
     "text": [
      "['a', 'a', 'b', 'e', 'g', 'h', 'j', 'k', 'm', 'm', 'o', 'o', 'p', 'p', 't', 't', 'w', 'w']\n"
     ]
    }
   ],
   "source": [
    "clis.sort()\n",
    "print(clis)"
   ]
  },
  {
   "cell_type": "markdown",
   "id": "25070a6d-e34d-4677-bea3-cb13d063cb41",
   "metadata": {},
   "source": [
    "□1-10. 1-9で得られた`clis`の最後要素に'z'を付け加え，得られた`clis`をprint関数を使って表示せよ。"
   ]
  },
  {
   "cell_type": "code",
   "execution_count": 14,
   "id": "3bd17fe4-a887-4731-b552-026d196f9092",
   "metadata": {},
   "outputs": [
    {
     "name": "stdout",
     "output_type": "stream",
     "text": [
      "['a', 'a', 'b', 'e', 'g', 'h', 'j', 'k', 'm', 'm', 'o', 'o', 'p', 'p', 't', 't', 'w', 'w', 'z']\n"
     ]
    }
   ],
   "source": [
    "clis.append('z')\n",
    "print(clis)"
   ]
  },
  {
   "cell_type": "code",
   "execution_count": null,
   "id": "491febb9-6778-4c42-a3ef-6b430024a649",
   "metadata": {},
   "outputs": [],
   "source": []
  }
 ],
 "metadata": {
  "kernelspec": {
   "display_name": "Python 3 (ipykernel)",
   "language": "python",
   "name": "python3"
  },
  "language_info": {
   "codemirror_mode": {
    "name": "ipython",
    "version": 3
   },
   "file_extension": ".py",
   "mimetype": "text/x-python",
   "name": "python",
   "nbconvert_exporter": "python",
   "pygments_lexer": "ipython3",
   "version": "3.11.5"
  }
 },
 "nbformat": 4,
 "nbformat_minor": 5
}
