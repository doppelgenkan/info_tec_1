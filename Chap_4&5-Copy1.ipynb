{
 "cells": [
  {
   "cell_type": "markdown",
   "metadata": {
    "id": "RQXcpQ4KAm3K"
   },
   "source": [
    "# 4&5の課題"
   ]
  },
  {
   "cell_type": "markdown",
   "metadata": {
    "id": "LhvJZpqjAm3M"
   },
   "source": [
    "学生番号："
   ]
  },
  {
   "cell_type": "markdown",
   "metadata": {
    "id": "fvT1FDLVAm3M"
   },
   "source": [
    "氏　　名："
   ]
  },
  {
   "cell_type": "markdown",
   "metadata": {
    "id": "ZPgRB9lGdW4e"
   },
   "source": [
    "#### ■1. エラーの対応についての問題に答えよ。\n",
    "下の幾つかのコードを実行するとエラーが出る（問題番号末尾aのセル）。エラーを起こした原因を調べて（問題番号末尾bのセルに）述べ，その下のセル（問題番号末尾cのセル）に元の（問題番号末尾aのセルの）コードをコピー＆ペーストしてエラー発生コード修正し実行せよ。\n",
    "\n",
    "□1-1a. nのn乗を求めるコード（エラーが出る）："
   ]
  },
  {
   "cell_type": "code",
   "execution_count": 1,
   "metadata": {
    "id": "K6RzKIPQAm3Q"
   },
   "outputs": [
    {
     "ename": "SyntaxError",
     "evalue": "expected ':' (4142969590.py, line 1)",
     "output_type": "error",
     "traceback": [
      "\u001b[0;36m  Cell \u001b[0;32mIn[1], line 1\u001b[0;36m\u001b[0m\n\u001b[0;31m    def n_no_n_joh(n);\u001b[0m\n\u001b[0m                     ^\u001b[0m\n\u001b[0;31mSyntaxError\u001b[0m\u001b[0;31m:\u001b[0m expected ':'\n"
     ]
    }
   ],
   "source": [
    "def n_no_n_joh(n);\n",
    "    return n**n\n",
    "\n",
    "n_no_n_joh(45)"
   ]
  },
  {
   "cell_type": "markdown",
   "metadata": {
    "id": "Tzagr84gtSnU"
   },
   "source": [
    "□1-1b. 1-1aの何行目の何がエラーであるか？"
   ]
  },
  {
   "cell_type": "markdown",
   "metadata": {
    "id": "6m2rhoXltd3m"
   },
   "source": [
    "（ここをダブルクリックして入力）  \n",
    "２行目のdef文行の最後がセミコロン「;」になっているが，ここはコロン「:」でなければならない。"
   ]
  },
  {
   "cell_type": "markdown",
   "metadata": {
    "id": "Mv_i8KeCto1r"
   },
   "source": [
    "□1-1c. 1-1aのコードを下のセルにコピーし，修正して実行せよ："
   ]
  },
  {
   "cell_type": "code",
   "execution_count": 2,
   "metadata": {
    "executionInfo": {
     "elapsed": 512,
     "status": "ok",
     "timestamp": 1708420726965,
     "user": {
      "displayName": "橘浩久",
      "userId": "05113735281608269160"
     },
     "user_tz": -540
    },
    "id": "bHqiTkKEgBCD"
   },
   "outputs": [
    {
     "data": {
      "text/plain": [
       "248063644451341145494649182395412689744530581492654164321720600128173828125"
      ]
     },
     "execution_count": 2,
     "metadata": {},
     "output_type": "execute_result"
    }
   ],
   "source": [
    "def n_no_n_joh(n):\n",
    "    return n**n\n",
    "\n",
    "n_no_n_joh(45)"
   ]
  },
  {
   "cell_type": "markdown",
   "metadata": {
    "id": "OM7prwtg5wWg"
   },
   "source": [
    "□1-2a. 角度（60分法）を与えたときのsin, cos, tan の値を表示するコード（エラーが出る）："
   ]
  },
  {
   "cell_type": "code",
   "execution_count": 3,
   "metadata": {
    "id": "3LO4g7lNu0ez"
   },
   "outputs": [
    {
     "ename": "NameError",
     "evalue": "name 'math' is not defined",
     "output_type": "error",
     "traceback": [
      "\u001b[0;31m---------------------------------------------------------------------------\u001b[0m",
      "\u001b[0;31mNameError\u001b[0m                                 Traceback (most recent call last)",
      "Cell \u001b[0;32mIn[3], line 7\u001b[0m\n\u001b[1;32m      3\u001b[0m     \u001b[38;5;28mprint\u001b[39m(\u001b[38;5;124mf\u001b[39m\u001b[38;5;124m'\u001b[39m\u001b[38;5;124mcos(\u001b[39m\u001b[38;5;132;01m{\u001b[39;00mtheta\u001b[38;5;132;01m}\u001b[39;00m\u001b[38;5;124mdegrees)=\u001b[39m\u001b[38;5;132;01m{\u001b[39;00mmath\u001b[38;5;241m.\u001b[39mcos(math\u001b[38;5;241m.\u001b[39mradians(theta))\u001b[38;5;132;01m}\u001b[39;00m\u001b[38;5;124m'\u001b[39m)\n\u001b[1;32m      4\u001b[0m     \u001b[38;5;28mprint\u001b[39m(\u001b[38;5;124mf\u001b[39m\u001b[38;5;124m'\u001b[39m\u001b[38;5;124mtan(\u001b[39m\u001b[38;5;132;01m{\u001b[39;00mtheta\u001b[38;5;132;01m}\u001b[39;00m\u001b[38;5;124mdegrees)=\u001b[39m\u001b[38;5;132;01m{\u001b[39;00mmath\u001b[38;5;241m.\u001b[39mtan(math\u001b[38;5;241m.\u001b[39mradians(theta))\u001b[38;5;132;01m}\u001b[39;00m\u001b[38;5;124m'\u001b[39m)\n\u001b[0;32m----> 7\u001b[0m triangle_ratio(\u001b[38;5;241m60\u001b[39m)\n",
      "Cell \u001b[0;32mIn[3], line 2\u001b[0m, in \u001b[0;36mtriangle_ratio\u001b[0;34m(theta)\u001b[0m\n\u001b[1;32m      1\u001b[0m \u001b[38;5;28;01mdef\u001b[39;00m \u001b[38;5;21mtriangle_ratio\u001b[39m(theta):\n\u001b[0;32m----> 2\u001b[0m     \u001b[38;5;28mprint\u001b[39m(\u001b[38;5;124mf\u001b[39m\u001b[38;5;124m'\u001b[39m\u001b[38;5;124msin(\u001b[39m\u001b[38;5;132;01m{\u001b[39;00mtheta\u001b[38;5;132;01m}\u001b[39;00m\u001b[38;5;124mdegrees)=\u001b[39m\u001b[38;5;132;01m{\u001b[39;00mmath\u001b[38;5;241m.\u001b[39msin(math\u001b[38;5;241m.\u001b[39mradians(theta))\u001b[38;5;132;01m}\u001b[39;00m\u001b[38;5;124m'\u001b[39m)\n\u001b[1;32m      3\u001b[0m     \u001b[38;5;28mprint\u001b[39m(\u001b[38;5;124mf\u001b[39m\u001b[38;5;124m'\u001b[39m\u001b[38;5;124mcos(\u001b[39m\u001b[38;5;132;01m{\u001b[39;00mtheta\u001b[38;5;132;01m}\u001b[39;00m\u001b[38;5;124mdegrees)=\u001b[39m\u001b[38;5;132;01m{\u001b[39;00mmath\u001b[38;5;241m.\u001b[39mcos(math\u001b[38;5;241m.\u001b[39mradians(theta))\u001b[38;5;132;01m}\u001b[39;00m\u001b[38;5;124m'\u001b[39m)\n\u001b[1;32m      4\u001b[0m     \u001b[38;5;28mprint\u001b[39m(\u001b[38;5;124mf\u001b[39m\u001b[38;5;124m'\u001b[39m\u001b[38;5;124mtan(\u001b[39m\u001b[38;5;132;01m{\u001b[39;00mtheta\u001b[38;5;132;01m}\u001b[39;00m\u001b[38;5;124mdegrees)=\u001b[39m\u001b[38;5;132;01m{\u001b[39;00mmath\u001b[38;5;241m.\u001b[39mtan(math\u001b[38;5;241m.\u001b[39mradians(theta))\u001b[38;5;132;01m}\u001b[39;00m\u001b[38;5;124m'\u001b[39m)\n",
      "\u001b[0;31mNameError\u001b[0m: name 'math' is not defined"
     ]
    }
   ],
   "source": [
    "def triangle_ratio(theta):\n",
    "    print(f'sin({theta}degrees)={math.sin(math.radians(theta))}')\n",
    "    print(f'cos({theta}degrees)={math.cos(math.radians(theta))}')\n",
    "    print(f'tan({theta}degrees)={math.tan(math.radians(theta))}')\n",
    "\n",
    "\n",
    "triangle_ratio(60)"
   ]
  },
  {
   "cell_type": "markdown",
   "metadata": {
    "id": "2vRjtnYf6Lay"
   },
   "source": [
    "□1-2b. 1-2aの何がエラーであるか？"
   ]
  },
  {
   "cell_type": "markdown",
   "metadata": {
    "id": "KvDznuc-6LEq"
   },
   "source": [
    "（ダブルクリックして入力）  \n",
    "「math」が定義されていないというエラーである。このエラーは，sin，cos，tan等の関数が「math」モジュールに入っていて，そのモジュールをインポートしていないことから生じる。"
   ]
  },
  {
   "cell_type": "markdown",
   "metadata": {
    "id": "ikwQdyVN6fDT"
   },
   "source": [
    "□1-2c. 1-2aのコードを下のセルにコピーし，修正して実行せよ："
   ]
  },
  {
   "cell_type": "code",
   "execution_count": 4,
   "metadata": {
    "executionInfo": {
     "elapsed": 621,
     "status": "ok",
     "timestamp": 1708420737009,
     "user": {
      "displayName": "橘浩久",
      "userId": "05113735281608269160"
     },
     "user_tz": -540
    },
    "id": "dmrf6BIDgLn3"
   },
   "outputs": [
    {
     "name": "stdout",
     "output_type": "stream",
     "text": [
      "sin(60degrees)=0.8660254037844386\n",
      "cos(60degrees)=0.5000000000000001\n",
      "tan(60degrees)=1.7320508075688767\n"
     ]
    }
   ],
   "source": [
    "import math\n",
    "\n",
    "def triangle_ratio(theta):\n",
    "    print(f'sin({theta}degrees)={math.sin(math.radians(theta))}')\n",
    "    print(f'cos({theta}degrees)={math.cos(math.radians(theta))}')\n",
    "    print(f'tan({theta}degrees)={math.tan(math.radians(theta))}')\n",
    "\n",
    "\n",
    "triangle_ratio(60)"
   ]
  },
  {
   "cell_type": "markdown",
   "metadata": {
    "id": "UbCqHzkRx0UO"
   },
   "source": [
    "□1-3a. 次のプログラムは`n`($=n$)を与えたとき，$1^2+2^2+3^2+...+(n-1)^2+n^2$を計算し，結果を表示するコードである（エラーがでる）："
   ]
  },
  {
   "cell_type": "code",
   "execution_count": 5,
   "metadata": {
    "id": "frWtQ9pm8H7R"
   },
   "outputs": [
    {
     "ename": "SyntaxError",
     "evalue": "unterminated string literal (detected at line 5) (3959222119.py, line 5)",
     "output_type": "error",
     "traceback": [
      "\u001b[0;36m  Cell \u001b[0;32mIn[5], line 5\u001b[0;36m\u001b[0m\n\u001b[0;31m    print(f'1^2 + 2^2 + 3^2 + ... + {n}^2 = {s}\")\u001b[0m\n\u001b[0m          ^\u001b[0m\n\u001b[0;31mSyntaxError\u001b[0m\u001b[0;31m:\u001b[0m unterminated string literal (detected at line 5)\n"
     ]
    }
   ],
   "source": [
    "def ni_johwa(n):\n",
    "    s = 0\n",
    "    for k in range(n):\n",
    "        s += k**2\n",
    "    print(f'1^2 + 2^2 + 3^2 + ... + {n}^2 = {s}\")\n",
    "\n",
    "ni_johwa(10)"
   ]
  },
  {
   "cell_type": "markdown",
   "metadata": {
    "id": "jobOIu90yzw5"
   },
   "source": [
    "□1-3b. 1-3aの何行目の何がエラーであるか？"
   ]
  },
  {
   "cell_type": "markdown",
   "metadata": {
    "id": "N9UyOiRHzBeO"
   },
   "source": [
    "（ダブルクリックして入力）  \n",
    "「print」関数の引数の文字列が，「'」と「\"」で括られている。本来は「'」と「'」または「\"」と「\"」というように同種のクォーテーションで括らなければならない。"
   ]
  },
  {
   "cell_type": "markdown",
   "metadata": {
    "id": "ML9t1PZczF0W"
   },
   "source": [
    "□1-3c. 1-3aのコードを下のセルにコピーし，修正して実行せよ："
   ]
  },
  {
   "cell_type": "code",
   "execution_count": 6,
   "metadata": {},
   "outputs": [
    {
     "name": "stdout",
     "output_type": "stream",
     "text": [
      "1^2 + 2^2 + 3^2 + ... + 10^2 = 285\n"
     ]
    }
   ],
   "source": [
    "def ni_johwa(n):\n",
    "    s = 0\n",
    "    for k in range(n):\n",
    "        s += k**2\n",
    "    print(f'1^2 + 2^2 + 3^2 + ... + {n}^2 = {s}')\n",
    "\n",
    "ni_johwa(10)"
   ]
  },
  {
   "cell_type": "markdown",
   "metadata": {
    "id": "Y4BeIAGFAm3N"
   },
   "source": [
    "#### ■2. 引数の数が偶数か奇数かを判定する関数を作成する。\n",
    "\n",
    "□2-1. 引数に整数をいれて，偶数と奇数を入力して判定する`even_or_odd(数値)`を作れ。ただし数値に実数が入ったときには，そのを数値の整数部分だけで偶数と奇数を判定すること。なお、出力は`print`関数を用いて，引数の`数値`が偶数のときは`Even`，奇数のときは`Odd`と表示すること。"
   ]
  },
  {
   "cell_type": "code",
   "execution_count": 7,
   "metadata": {
    "id": "97O6AkEKAm3N"
   },
   "outputs": [],
   "source": [
    "def even_or_odd(n):\n",
    "    if int(n) % 2 == 0:\n",
    "        print('Even')\n",
    "    else:\n",
    "        print('Odd')"
   ]
  },
  {
   "cell_type": "markdown",
   "metadata": {
    "id": "5ODFMLSQAm3O"
   },
   "source": [
    "□2-2. 引数の数値が23088のとき，その数が偶数か奇数かを判定せよ："
   ]
  },
  {
   "cell_type": "code",
   "execution_count": 8,
   "metadata": {
    "id": "sMVc8xV-Am3O"
   },
   "outputs": [
    {
     "name": "stdout",
     "output_type": "stream",
     "text": [
      "Even\n"
     ]
    }
   ],
   "source": [
    "even_or_odd(23088)"
   ]
  },
  {
   "cell_type": "markdown",
   "metadata": {
    "id": "y9EEejUSAm3P"
   },
   "source": [
    "□2-3. 引数の数値が18905のとき，その数が偶数か奇数かを判定せよ："
   ]
  },
  {
   "cell_type": "code",
   "execution_count": 9,
   "metadata": {
    "id": "Xfe5b7vpAm3P"
   },
   "outputs": [
    {
     "name": "stdout",
     "output_type": "stream",
     "text": [
      "Odd\n"
     ]
    }
   ],
   "source": [
    "even_or_odd(18905)"
   ]
  },
  {
   "cell_type": "markdown",
   "metadata": {
    "id": "ywNr2SFeAm3P"
   },
   "source": [
    "□2-4. 引数の数値が76.3のとき，その数の整数部分が偶数か奇数かを判定せよ："
   ]
  },
  {
   "cell_type": "code",
   "execution_count": 10,
   "metadata": {
    "id": "rjI2u6nIAm3P"
   },
   "outputs": [
    {
     "name": "stdout",
     "output_type": "stream",
     "text": [
      "Even\n"
     ]
    }
   ],
   "source": [
    "even_or_odd(76.3)"
   ]
  },
  {
   "cell_type": "markdown",
   "metadata": {
    "id": "oIClnMfoAm3Q"
   },
   "source": [
    "#### ■3. 引数の数がnの倍数かどうかを判定する。ただし，論理値を返す。\n",
    "\n",
    "□3-1. 引数で指定した数（の整数部分）が$n$の倍数かを判定する関数`n_maltiple(数値, n)`を作れ。ただし、今回は引数の`数値`（の整数部分が）`n`の倍数の場合は`True`を**返し**，そうでない場合は`False`を**返す**。"
   ]
  },
  {
   "cell_type": "code",
   "execution_count": 11,
   "metadata": {
    "id": "fjjj8Jj0Am3Q"
   },
   "outputs": [],
   "source": [
    "def n_maltiple(val, n):\n",
    "    if int(val) % n == 0:\n",
    "        return True\n",
    "    else:\n",
    "        return False"
   ]
  },
  {
   "cell_type": "markdown",
   "metadata": {
    "id": "t49GuP_cAm3Q"
   },
   "source": [
    "□3-2a. 引数の数値が21858909のとき，その数が7の倍数どうかを判定せよ："
   ]
  },
  {
   "cell_type": "code",
   "execution_count": 12,
   "metadata": {
    "id": "mGgrdHt9Am3Q"
   },
   "outputs": [
    {
     "data": {
      "text/plain": [
       "False"
      ]
     },
     "execution_count": 12,
     "metadata": {},
     "output_type": "execute_result"
    }
   ],
   "source": [
    "n_maltiple(21858909, 7)"
   ]
  },
  {
   "cell_type": "markdown",
   "metadata": {
    "id": "eoEMPNzRbD9E"
   },
   "source": [
    "□3-2b. 21858909は7の倍数か？ 下のセルに記述せよ："
   ]
  },
  {
   "cell_type": "markdown",
   "metadata": {
    "id": "Wwt6nBKcbTuf"
   },
   "source": [
    "（ここをダブルクリックして入力）  \n",
    "7の倍数ではない。"
   ]
  },
  {
   "cell_type": "markdown",
   "metadata": {
    "id": "53OI_hzNAm3Q"
   },
   "source": [
    "□3-3a. 引数の数値が111222333のとき，その数が9の倍数かを判定せよ："
   ]
  },
  {
   "cell_type": "code",
   "execution_count": 13,
   "metadata": {
    "id": "GwNAhzXZAm3Q"
   },
   "outputs": [
    {
     "data": {
      "text/plain": [
       "True"
      ]
     },
     "execution_count": 13,
     "metadata": {},
     "output_type": "execute_result"
    }
   ],
   "source": [
    "n_maltiple(111222333, 9)"
   ]
  },
  {
   "cell_type": "markdown",
   "metadata": {
    "id": "cSzYEPSQcKRE"
   },
   "source": [
    "□3-3b. 111222333は9の倍数か？ 下のセルに記述せよ："
   ]
  },
  {
   "cell_type": "markdown",
   "metadata": {
    "id": "kteDthmgcmSr"
   },
   "source": [
    "（ここをダブルクリックして入力）  \n",
    "9の倍数である。"
   ]
  },
  {
   "cell_type": "markdown",
   "metadata": {
    "id": "SUkCaKbWAm3Q"
   },
   "source": [
    "□3-4a. 引数の数値–875394.38のとき，その数の整数部分が6の倍数かを判定せよ。"
   ]
  },
  {
   "cell_type": "code",
   "execution_count": 14,
   "metadata": {
    "id": "syGEpGVMAm3Q"
   },
   "outputs": [
    {
     "data": {
      "text/plain": [
       "True"
      ]
     },
     "execution_count": 14,
     "metadata": {},
     "output_type": "execute_result"
    }
   ],
   "source": [
    "n_maltiple(-875394.38, 6)"
   ]
  },
  {
   "cell_type": "markdown",
   "metadata": {
    "id": "vH3Y59vfcrk0"
   },
   "source": [
    "□3-4b. –875394.38の整数部分は6の倍数か？ 下のセルに記述せよ："
   ]
  },
  {
   "cell_type": "markdown",
   "metadata": {
    "id": "XA9fdA8Bc0AK"
   },
   "source": [
    "（ここをダブルクリックして入力）  \n",
    "整数部分は6の倍数である。"
   ]
  },
  {
   "cell_type": "code",
   "execution_count": null,
   "metadata": {
    "id": "rJyaiCEXzKlG"
   },
   "outputs": [],
   "source": []
  }
 ],
 "metadata": {
  "colab": {
   "provenance": []
  },
  "kernelspec": {
   "display_name": "Python 3 (ipykernel)",
   "language": "python",
   "name": "python3"
  },
  "language_info": {
   "codemirror_mode": {
    "name": "ipython",
    "version": 3
   },
   "file_extension": ".py",
   "mimetype": "text/x-python",
   "name": "python",
   "nbconvert_exporter": "python",
   "pygments_lexer": "ipython3",
   "version": "3.11.5"
  }
 },
 "nbformat": 4,
 "nbformat_minor": 4
}
