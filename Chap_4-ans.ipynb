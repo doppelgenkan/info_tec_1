{
 "cells": [
  {
   "cell_type": "markdown",
   "metadata": {},
   "source": [
    "# 4の課題"
   ]
  },
  {
   "cell_type": "markdown",
   "metadata": {},
   "source": [
    "学生番号："
   ]
  },
  {
   "cell_type": "markdown",
   "metadata": {},
   "source": [
    "氏　　名："
   ]
  },
  {
   "cell_type": "markdown",
   "metadata": {},
   "source": [
    "#### ■1. 引数の数が偶数か奇数かを判定する関数を作成する。\n",
    "\n",
    "□1-1. 引数に整数をいれて，偶数と奇数を入力して判定する`even_or_odd(数値)`を作れ。ただし数値に実数が入ったときには，そのを数値の整数部分だけで偶数と奇数を判定すること。なお、出力は`print`関数を用いて，引数の`数値`が偶数のときは`Even`，奇数のときは`Odd`と表示すること。"
   ]
  },
  {
   "cell_type": "code",
   "execution_count": 1,
   "metadata": {},
   "outputs": [],
   "source": [
    "def even_or_odd(val):\n",
    "    ival = int(val)\n",
    "    if ival%2 == 0:\n",
    "        print('Even')\n",
    "    else:\n",
    "        print('Odd')"
   ]
  },
  {
   "cell_type": "markdown",
   "metadata": {},
   "source": [
    "□1-2. 引数の数値が23088のとき，その数が偶数か奇数かを判定せよ："
   ]
  },
  {
   "cell_type": "code",
   "execution_count": 6,
   "metadata": {},
   "outputs": [
    {
     "name": "stdout",
     "output_type": "stream",
     "text": [
      "Even\n"
     ]
    }
   ],
   "source": [
    "even_or_odd(23088)"
   ]
  },
  {
   "cell_type": "markdown",
   "metadata": {},
   "source": [
    "□1-3. 引数の数値が18905のとき，その数が偶数か奇数かを判定せよ："
   ]
  },
  {
   "cell_type": "code",
   "execution_count": 5,
   "metadata": {},
   "outputs": [
    {
     "name": "stdout",
     "output_type": "stream",
     "text": [
      "Odd\n"
     ]
    }
   ],
   "source": [
    "even_or_odd(18905)"
   ]
  },
  {
   "cell_type": "markdown",
   "metadata": {},
   "source": [
    "□1-4. 引数の数値が76.3のとき，その数の整数部分が偶数か奇数かを判定せよ："
   ]
  },
  {
   "cell_type": "code",
   "execution_count": 4,
   "metadata": {},
   "outputs": [
    {
     "name": "stdout",
     "output_type": "stream",
     "text": [
      "Odd\n"
     ]
    }
   ],
   "source": [
    "even_or_odd(67.3)"
   ]
  },
  {
   "cell_type": "markdown",
   "metadata": {},
   "source": [
    "#### ■2. 指定した桁数を四捨五入する関数を作成する。\n",
    "\n",
    "□2-1. 引数に実数をいれて，指定した桁数の左側の数を四捨五入し，指定桁数に直す関数`round(数値, 桁数)`を作る。\n",
    "- 指定桁数は次のように解釈する：  \n",
    " - 桁数整数$n$が0か自然数の場合は，小数第$n+1$位を四捨五入する。\n",
    " - 桁数整数$n$が負の場合は，整数部分第$n-1$桁目を四捨五入する。"
   ]
  },
  {
   "cell_type": "code",
   "execution_count": null,
   "metadata": {},
   "outputs": [],
   "source": [
    "def round(val, n):\n",
    "    x = val * 10**n"
   ]
  }
 ],
 "metadata": {
  "kernelspec": {
   "display_name": "Python 3",
   "language": "python",
   "name": "python3"
  },
  "language_info": {
   "codemirror_mode": {
    "name": "ipython",
    "version": 3
   },
   "file_extension": ".py",
   "mimetype": "text/x-python",
   "name": "python",
   "nbconvert_exporter": "python",
   "pygments_lexer": "ipython3",
   "version": "3.8.3"
  }
 },
 "nbformat": 4,
 "nbformat_minor": 4
}
