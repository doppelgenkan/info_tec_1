{
 "cells": [
  {
   "cell_type": "markdown",
   "metadata": {},
   "source": [
    "# 6の課題"
   ]
  },
  {
   "cell_type": "markdown",
   "metadata": {},
   "source": [
    "学籍番号："
   ]
  },
  {
   "cell_type": "markdown",
   "metadata": {},
   "source": [
    "氏　　名："
   ]
  },
  {
   "cell_type": "markdown",
   "metadata": {},
   "source": [
    "■1. 文字列に関する次の問題に答えよ。\n",
    "\n",
    "□1-1. 次のセルを実行して，変数`longword`に文字列（これは小説「ちいさこべ」の二章節目の文章である）を代入せよ："
   ]
  },
  {
   "cell_type": "code",
   "execution_count": 1,
   "metadata": {},
   "outputs": [],
   "source": [
    "longword = '\\u3000大六はそれから三度、江戸のようすを見にいって来た。\\n\\u3000町内では質両替商の「福田屋」が焼け残った。あるじの久兵衛は五人組を勤めているし、資産の点でも人望の点でも、神田では指折りであった。長男の利吉は茂次と同年の二十三で、その下におゆうという十七になる妹がいる。二人とも茂次とは幼な馴染であり、いまでも親しいつきあいが続いていた。店は角地で、土蔵が三棟あるし、前が掘割の土堤[どて]、北側が道を隔てて武家の小屋敷になっている。そういう地の理が幸いしたのかもしれないが、その隣り町の小屋敷の一画と、福田屋だけは焼け残った。\\n「いちめんの焼け跡で不用心だからと、奥の人たちはまだ目白の親類のほうにいるそうですが、店はもうあけていました」\\n「そいつはよかった」と茂次は云った。\\n\\u3000大留も焼け跡へ小屋を建てていた。\\n\\u3000火事では留造夫婦といっしょに、倉太、銀二という二人の弟子が死んだが、くろは助二郎の家へ手伝いにいっていて助かった。助二郎はかよいで大留の帳場をしており、年は四十五歳、妻のおろくとのあいだに子供が三人ある。家は下谷の御徒町で、くろはその家の勝手口を直すために、泊りこんでいたのだという。――出入りの職人にも二人ばかり焼死者があったが、ほかの者はすぐに駆けつけて来、木場の「和七」と相談のうえ、大留の再建にかかった。\\n\\u3000和七の先代のあるじは和泉屋七兵衛といって、死んだ留造のために、潰[つぶ]れかかった木場の店を二度も救われたことがあり、生涯それを深く恩にきていた。いまの七兵衛はその子であるが、父親の遺志を継ぐ気持だろう、自分でやって来て「材木のほうは手を打った、必要なら幾らでもまわす」と云い、とりあえず仮小屋を建てることになった、ということである。\\n\\u3000三度めにいって来た大六は、普請の注文が三つあり、助二郎が采配[さいはい]を振って、すでに職人や木の割当てをつけたと語った。それから、仮小屋にはくろのほかに、焼けだされた弟子筋の職人が三人、仕事の関係で泊りこんでいること、その世話をするために、女を一人雇ったことなどを告げた。茂次はうんうんと聞くだけだったが、大六はそこで、ちょっと頭を掻[か]きながら口ごもった。\\n「なんだ」と不審そうに茂次が訊いた。\\n「おりつっていう娘を知ってますか」と大六が云った、「炭屋の裏長屋にいて、おふくろがうちの店へ手伝いに来ていた」\\n「知ってるよ」と茂次が云った。\\n「雇ったのはあの娘なんだ」\\n\\u3000茂次は大六の顔を見た、「――あれは、どこかの茶屋奉公に出てたんじゃないのか」\\n「並木町の天川だったそうだが」と大六は答えた、「それがじつは、おふくろが、やっぱりあの火事で焼け死んじまったそうで、すっかり途方にくれてるような按配[あんばい]だったもんだから」\\n「おいくも焼け死んだって――」茂次は遠くを見るような眼つきをした、「そいつは可哀そうに」\\n「それでもう、茶屋奉公をするはりあいもないし、できるなら生れた町内で堅気なくらしがしたい、みなさんの食事ごしらえや洗濯なんか引受けるから、と云うもんでね」\\n「わかった、おりつならいいだろう」\\n「あっしもそう思ったんだが」\\n\\u3000茂次はまた大六の顔を見た、「――なにを云いそびれてるんだ」\\n「べつに云いそびれてるわけじゃあねえが」と大六はまた頭を掻いた、「じつは、こんどいってみると、あの娘が子供を集めて面倒をみているんだ、火事にあって、親きょうだいをなくした子供たちなんだが」\\n「それで」と茂次がじれったそうに促した。\\n「それでつまり、一人や二人ならいいけれども、十二三人にもなっちまってるんで」\\n「だめだ」と茂次は首を振った、「そんなばかなことができるもんか、追いだしちまえ」\\n\\u3000大六は困惑したようすで、それがそうはいかない、娘が理屈を云って、どうしても承知しないのだと云った。\\n「あいつは昔からおせっかいなやつだった」と茂次が云った、「よし、うっちゃっとけ、おれが帰ったら片づけてやる」\\n\\u3000波津音の普請は十月はじめに終った。\\n\\u3000このあいだに二人、高輪の「大伊[だいい]」と浅草あべ川町の兼六が川越まで弔問に来た。大伊の伊吉は亡き留造の弟分で、茂次は小さいじぶんから「高輪のおじさん」と呼んでいた。兼六は「大留」から出た人間で、弟子筋ではいちばん古参であり、年ももう六十にちかかった。二人とも留造夫婦の死にくやみを述べ、茂次が仕事場からはなれなかったことを褒めた。それから、葬式のことや、大留の再建について相談にのろうと云った。茂次はふだんから口がへたで、なにか云うにしても、まるで枯枝でも折るような、ぶっきらぼうなことしか云えなかったが、そのときもいつもの伝で、弔問には礼を述べたが、相談にのろうというはなしは断わった。\\n「葬式は当分ださないつもりです」と茂次は云った、「そんな金もないし、あれば仕事のほうへまわすのが先です」\\n「だからその相談をしようと思って来たんだ、金のことならなんとでもするから」\\n「いや、葬式は当分だしません」と茂次は頑固に首を振った、「それに、大留をたて直すにしても自分の腕でやってみるつもりです、どうか私のことはうっちゃっといて下さい」\\n\\u3000二人は茂次の性分を知っているので、それでは江戸でまた改めて話すことにしよう、と云って帰った。大六はこの問答をはらはらしながら聞いていたが、二人が去るとすぐに、あんな挨拶はないと怒った。\\n「相手にもよりけりだ、高輪とあべ川町は親類も同様ですぜ、わざわざこんな川越くんだりまで来てくれて、ゆくさき力になろうと云うのはあだやおろそかなことじゃあねえ、それをあんな」\\n「うるせえ」と茂次が遮[さえぎ]った、「おれにはおれの思案があるんだ、はっきり云っとくが、これからは仕事のこと以外によけいな口だしはしねえでくれ」\\n\\u3000大六は黙って頭を垂れた。\\n「わかったのか」と茂次が云った。\\n「わかりました」と大六は答えた。\\n\\u3000普請がすっかり終り、茂次はみんなを伴れて江戸へ帰った。\\n\\u3000板橋で日が暮れ、本郷台を外神田へくだるときは、もう暗くて眺望はきかなかったが、湯島から下はいちめんに黒く、灯もごくまばらで、いかにも荒涼としたけしきだった。和泉橋を渡って岩井町へ着くまで、どちらを見ても焼け跡ばかりだったし、表通りだけぽつぽつ建っている家も、みな仮小屋か、それにちかいざつな建物であった。\\n\\u3000大留の店は元の場所だが、本普請をする地面をよけて、二丁目のほうへ寄った端に建ててあった。板を打付けて作ったまったくの仮小屋で、横に長く、佐久間町のほうへ向って戸口があり、「大留」と書いた提灯[ちょうちん]が、まわりの焼け跡に明るく光りを投げていた。松三の先触れで、戸口の前に立っていた出迎えの者たちが、われ勝ちに挨拶するのを聞きながら、茂次は口の中でそっと呟いた。\\n「お父っつぁんおっ母さん、いま帰りました」\\n'"
   ]
  },
  {
   "cell_type": "markdown",
   "metadata": {},
   "source": [
    "□1-2. `print`関数を用いて，変数`longword`の内容を表示せよ：  \n",
    "> [ ]で囲まれている文字列は振り仮名である。"
   ]
  },
  {
   "cell_type": "code",
   "execution_count": null,
   "metadata": {},
   "outputs": [],
   "source": []
  },
  {
   "cell_type": "markdown",
   "metadata": {},
   "source": [
    "□1-3. `longword`の内容の文章（文字列）の最初の文字を求めよ："
   ]
  },
  {
   "cell_type": "code",
   "execution_count": null,
   "metadata": {},
   "outputs": [],
   "source": []
  },
  {
   "cell_type": "markdown",
   "metadata": {},
   "source": [
    "□1-4. 1-3で返された文字は何を意味するか？ネットで調べて，下のマークダウンセルに答えよ。ただし，バックスラッシュ（\\）はエスケープ文字である。"
   ]
  },
  {
   "cell_type": "markdown",
   "metadata": {},
   "source": [
    "（ここをダブルクリックして入力）  \n"
   ]
  },
  {
   "cell_type": "markdown",
   "metadata": {},
   "source": [
    "□1-5. `longword`の内容の文章の最後に文字を求めよ："
   ]
  },
  {
   "cell_type": "code",
   "execution_count": null,
   "metadata": {},
   "outputs": [],
   "source": []
  },
  {
   "cell_type": "markdown",
   "metadata": {},
   "source": [
    "□1-6. `longword`の内容の文章の，1367〜1429文字目を抜き出せ："
   ]
  },
  {
   "cell_type": "code",
   "execution_count": null,
   "metadata": {},
   "outputs": [],
   "source": []
  },
  {
   "cell_type": "markdown",
   "metadata": {},
   "source": [
    "□1-7. longwordの内容の文章の，2326〜2379文字目を抜き出せ："
   ]
  },
  {
   "cell_type": "code",
   "execution_count": null,
   "metadata": {},
   "outputs": [],
   "source": []
  },
  {
   "cell_type": "markdown",
   "metadata": {},
   "source": [
    "□1-8. `longword`の内容の文章の段落数を求めよ（ヒント：1-5の結果が何を表すかを考えればよい）："
   ]
  },
  {
   "cell_type": "code",
   "execution_count": null,
   "metadata": {},
   "outputs": [],
   "source": []
  },
  {
   "cell_type": "markdown",
   "metadata": {},
   "source": [
    "□1-7. `longword`の内容の文章の**句読点の合計数**を求めよ："
   ]
  },
  {
   "cell_type": "code",
   "execution_count": null,
   "metadata": {},
   "outputs": [],
   "source": []
  },
  {
   "cell_type": "markdown",
   "metadata": {},
   "source": [
    "□1-8. `longword`の内容の文章の**話し言葉**の数を求めよ："
   ]
  },
  {
   "cell_type": "code",
   "execution_count": null,
   "metadata": {},
   "outputs": [],
   "source": []
  },
  {
   "cell_type": "markdown",
   "metadata": {},
   "source": [
    "□1-9. `longword`の内容の文章を'大六'を'大学六年生（二年留年）'に，'茂次'を'天友助手'に，'江戸'を'宝塚医療大学'にそれぞれ置換し，置換後の新しい文章を変数`longword1`に代入して`print`関数を用いて表示せよ："
   ]
  },
  {
   "cell_type": "code",
   "execution_count": null,
   "metadata": {},
   "outputs": [],
   "source": []
  },
  {
   "cell_type": "markdown",
   "metadata": {},
   "source": [
    "□1-10. `longword1`の内容に'大六'が無いことを確かめよ。"
   ]
  },
  {
   "cell_type": "code",
   "execution_count": null,
   "metadata": {},
   "outputs": [],
   "source": []
  },
  {
   "cell_type": "markdown",
   "metadata": {},
   "source": [
    "□1-11. `longword1`の内容に'天友助手'があることを確かめよ。"
   ]
  },
  {
   "cell_type": "code",
   "execution_count": null,
   "metadata": {},
   "outputs": [],
   "source": []
  },
  {
   "cell_type": "markdown",
   "metadata": {},
   "source": [
    "□1-12. `longword1`内容の文章は`longword`の内容の文章より何文字多いかを確かめよ。\n",
    "\n",
    "> 文字列の文字数は`len(文字列)`で勘定できる。"
   ]
  },
  {
   "cell_type": "code",
   "execution_count": null,
   "metadata": {},
   "outputs": [],
   "source": []
  },
  {
   "cell_type": "markdown",
   "metadata": {},
   "source": [
    "***"
   ]
  },
  {
   "cell_type": "markdown",
   "metadata": {},
   "source": [
    "## **6-14. f-string**"
   ]
  },
  {
   "cell_type": "markdown",
   "metadata": {},
   "source": [
    "文字列`'...'`や`\"...\"`のはじめの「'（クォーテーション）」または「\"（ダブルクォーテーション）」の前に`f`をつけた文字列を**f-string（f-文字列）**という。f-stringは次のような形をとる。\n",
    "\n",
    "```\n",
    "f'...{変数または数式}...{変数または数式}...'\n",
    "```\n",
    "\n",
    "これだけではわかりにくいので，例を試してみよう。\n",
    "\n",
    "□ 変数`x`に`347`を，変数`y`に`78`を代入し，それらの四則演算を文字列 `calc_waord1`〜`calc_waord4` に代入してみよう。"
   ]
  },
  {
   "cell_type": "code",
   "execution_count": null,
   "metadata": {},
   "outputs": [],
   "source": []
  },
  {
   "cell_type": "markdown",
   "metadata": {},
   "source": [
    "□ print関数をもちいて，`calc_waord1`〜`calc_waord4`を表示してみる。"
   ]
  },
  {
   "cell_type": "code",
   "execution_count": null,
   "metadata": {},
   "outputs": [],
   "source": []
  },
  {
   "cell_type": "markdown",
   "metadata": {},
   "source": [
    "□ f-stringで定義された文字列は，普通の文字列と同様に扱える。たとえば、`calc_word1`と`calc_word2`の結合は`+`を用いればよい。"
   ]
  },
  {
   "cell_type": "code",
   "execution_count": null,
   "metadata": {},
   "outputs": [],
   "source": []
  },
  {
   "cell_type": "markdown",
   "metadata": {},
   "source": [
    "□ `calc_word3`の`'答え'`を`'解答'`に置き換えると："
   ]
  },
  {
   "cell_type": "code",
   "execution_count": null,
   "metadata": {},
   "outputs": [],
   "source": []
  },
  {
   "cell_type": "markdown",
   "metadata": {},
   "source": [
    "■2. f-stringsについての次の問題に答えよ。"
   ]
  },
  {
   "cell_type": "markdown",
   "metadata": {},
   "source": [
    "□1. 身長仮引数`h`[cm]，体重仮引数`w`[kgf]をもち，それらでBMIを計算し，次のように出力する関数`calc_bmi(h, w)`を作成せよ。ただし，肥満はBMIが25以上である。出力にはf-stringを用い`print`関数によって出力すること：\n",
    "\n",
    "【実行例１】\n",
    "```\n",
    "身長が176cmで体重が69kgfの人のBMIは22.275309917355372で肥満ではありません。\n",
    "```\n",
    "\n",
    "【実行例２】\n",
    "```\n",
    "身長が169cmで体重が82kgfの人のBMIは28.71047932495361で肥満です。\n",
    "```\n",
    "\n"
   ]
  },
  {
   "cell_type": "code",
   "execution_count": 17,
   "metadata": {},
   "outputs": [],
   "source": [
    "def calc_bmi(h, w):\n",
    "    bmi = w / (h/100)**2\n",
    "    if bmi >= 25:\n",
    "        jadge = '肥満です'\n",
    "    else:\n",
    "        jadge = '肥満ではありません'\n",
    "    print(f'身長が{h}cmで体重が{w}kgfの人のBMIは{bmi}で{jadge}。')"
   ]
  },
  {
   "cell_type": "markdown",
   "metadata": {},
   "source": [
    "□2. 身長が181cm, 体重が91kgfについて`calc_bmi`関数を実行せよ："
   ]
  },
  {
   "cell_type": "code",
   "execution_count": 18,
   "metadata": {},
   "outputs": [
    {
     "name": "stdout",
     "output_type": "stream",
     "text": [
      "身長が181cmで体重が91kgfの人のBMIは27.776929886145112で肥満です。\n"
     ]
    }
   ],
   "source": [
    "calc_bmi(181, 91)"
   ]
  },
  {
   "cell_type": "markdown",
   "metadata": {},
   "source": [
    "□3. 身長が162cm, 体重が48.5kgfについてcalc_bmi関数を実行せよ："
   ]
  },
  {
   "cell_type": "code",
   "execution_count": 20,
   "metadata": {},
   "outputs": [
    {
     "name": "stdout",
     "output_type": "stream",
     "text": [
      "身長が162cmで体重が48.5kgfの人のBMIは18.480414570949545で肥満ではありません。\n"
     ]
    }
   ],
   "source": [
    "calc_bmi(162, 48.5)"
   ]
  },
  {
   "cell_type": "markdown",
   "metadata": {},
   "source": []
  }
 ],
 "metadata": {
  "kernelspec": {
   "display_name": "Python 3",
   "language": "python",
   "name": "python3"
  },
  "language_info": {
   "codemirror_mode": {
    "name": "ipython",
    "version": 3
   },
   "file_extension": ".py",
   "mimetype": "text/x-python",
   "name": "python",
   "nbconvert_exporter": "python",
   "pygments_lexer": "ipython3",
   "version": "3.8.3"
  }
 },
 "nbformat": 4,
 "nbformat_minor": 5
}
