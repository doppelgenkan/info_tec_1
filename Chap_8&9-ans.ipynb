{
 "cells": [
  {
   "cell_type": "markdown",
   "metadata": {
    "id": "lgGOvCBVlCpm"
   },
   "source": [
    "# 8&9の課題"
   ]
  },
  {
   "cell_type": "markdown",
   "metadata": {
    "id": "O-3-0vpIlLBK"
   },
   "source": [
    "学籍番号："
   ]
  },
  {
   "cell_type": "markdown",
   "metadata": {
    "id": "nPhG3A8PlP6f"
   },
   "source": [
    "氏　　名："
   ]
  },
  {
   "cell_type": "markdown",
   "metadata": {
    "id": "HYLaSEhycyfx"
   },
   "source": [
    "#### ■1. 図１は血圧値（mmHg）に関する血圧の判定である。この図をもとにして，以下の問題に答えよ。\n",
    "\n",
    "![IMG_9942.PNG](data:image/png;base64,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)\n",
    "\n",
    "図１．血圧の判定"
   ]
  },
  {
   "cell_type": "markdown",
   "metadata": {
    "id": "DAyRZPwzeHFh"
   },
   "source": [
    "□1-1. 収縮期血圧値と拡張期血圧値を引数にいれると，図１の血圧のカテゴリを判定する`bpjudge(bp1, bp2)`関数を作成せよ。ただし，戻り値は，`(収縮期血圧値, 拡張期血圧値, 判定)`というタプルとする。ここで判定の文字列は\n",
    "\n",
    "- normal ... 正常血圧\n",
    "- normal high ... 正常高値\n",
    "- high ... 高血圧\n",
    "- high I ... I度高血圧\n",
    "- high II ... II度高血圧\n",
    "- high III ... III度高血圧\n",
    "\n",
    "とする。また，`bpjudge(bp1, bp2)`の第1引数（仮引数`bp1`）と第2引数（仮引数`bp2`）は，大きい値が収縮期血圧，小さい値が拡張期血圧とし，`bpjudge(bp1, bp2)`の引数の順序にによって収縮期・拡張期を区別するのではなく，値の大きさによって収縮期・拡張期を区別するものとする。次の動作制御表を参考にせよ。\n",
    "```\n",
    "bpjudge(bp1, bp2)関数の定義...bp1とbp2は血圧値\n",
    "    mxにリスト[bp1, bp2]の最大値を代入（これが収縮期血圧）\n",
    "    mnにリスト[bp1, bp2]の最小値を代入（これが拡張期血圧）\n",
    "    もし，mxが180以上，またはmnが110以上のとき\n",
    "        変数judgeに文字列'high III'を代入\n",
    "    それ以外でもし，mxが160以上，またはmnが100以上のとき\n",
    "        変数judgeに文字列'high II'を代入\n",
    "    それ以外でもし，mxが140以上，またはmnが90以上のとき\n",
    "        変数judgeに文字列'high I'を代入\n",
    "    それ以外でもし，mxが130以上，またはmnが80以上のとき\n",
    "        変数judgeに文字列'high'を代入\n",
    "    それ以外でもし，mxが120以上のとき\n",
    "        変数judgeに文字列'normal high'を代入\n",
    "    それ以外のとき\n",
    "        変数judgeに文字列'normal'を代入\n",
    "    タプル(mx, mn, judge)を返す\n",
    "\n",
    "```"
   ]
  },
  {
   "cell_type": "code",
   "execution_count": 1,
   "metadata": {
    "id": "VGGF9u26cpsz"
   },
   "outputs": [],
   "source": [
    "def bpjudge(bp1, bp2):\n",
    "    mx = max([bp1, bp2])  # リスト[bp1, bp2]の最大値をmx（収縮期血圧）とする\n",
    "    mn = min([bp1, bp2])  # リスト[bp1, bp2]の最小値をmn（拡張期血圧）とする\n",
    "    if mx >= 180 or mn >= 110:\n",
    "        judge = 'high III'\n",
    "    elif mx >= 160 or mn >= 100:\n",
    "        judge = 'high II'\n",
    "    elif mx >= 140 or mn >= 90:\n",
    "        judge = 'high I'\n",
    "    elif mx >= 130 or mn >= 80:\n",
    "        judge = 'high'\n",
    "    elif mx >= 120:\n",
    "        judge = 'normal high'\n",
    "    else:\n",
    "        judge = 'normal'\n",
    "    return (mx, mn, judge)"
   ]
  },
  {
   "cell_type": "markdown",
   "metadata": {
    "id": "abmNITS9sQOx"
   },
   "source": [
    "□1-2. 血圧値が144mmhg, 129mmhgのとき，bpjudge関数で血圧判定せよ。"
   ]
  },
  {
   "cell_type": "code",
   "execution_count": 2,
   "metadata": {
    "colab": {
     "base_uri": "https://localhost:8080/"
    },
    "executionInfo": {
     "elapsed": 239,
     "status": "ok",
     "timestamp": 1710751787461,
     "user": {
      "displayName": "橘浩久",
      "userId": "05113735281608269160"
     },
     "user_tz": -540
    },
    "id": "922ULrlrvyRv",
    "outputId": "0fe972fa-a21b-4729-c42d-9f9b267620e1"
   },
   "outputs": [
    {
     "data": {
      "text/plain": [
       "(144, 129, 'high III')"
      ]
     },
     "execution_count": 2,
     "metadata": {},
     "output_type": "execute_result"
    }
   ],
   "source": [
    "bpjudge(144, 129)"
   ]
  },
  {
   "cell_type": "markdown",
   "metadata": {
    "id": "WcuWWPi_vdoQ"
   },
   "source": [
    "□1-3. 血圧値が103mmhg, 75mmhgのとき，bpjudge関数で血圧判定せよ。"
   ]
  },
  {
   "cell_type": "code",
   "execution_count": 3,
   "metadata": {
    "colab": {
     "base_uri": "https://localhost:8080/"
    },
    "executionInfo": {
     "elapsed": 3,
     "status": "ok",
     "timestamp": 1710751805897,
     "user": {
      "displayName": "橘浩久",
      "userId": "05113735281608269160"
     },
     "user_tz": -540
    },
    "id": "z4RSps-JvzLv",
    "outputId": "7a8ebca1-f25b-407d-c41a-a55a236cb767"
   },
   "outputs": [
    {
     "data": {
      "text/plain": [
       "(103, 75, 'normal')"
      ]
     },
     "execution_count": 3,
     "metadata": {},
     "output_type": "execute_result"
    }
   ],
   "source": [
    "bpjudge(103, 75)"
   ]
  },
  {
   "cell_type": "markdown",
   "metadata": {
    "id": "7KesEu_MvlDI"
   },
   "source": [
    "□1-4. 血圧値が110mmhg, 84mmhgのとき，bpjudge関数で血圧判定せよ。"
   ]
  },
  {
   "cell_type": "code",
   "execution_count": 4,
   "metadata": {
    "colab": {
     "base_uri": "https://localhost:8080/"
    },
    "executionInfo": {
     "elapsed": 272,
     "status": "ok",
     "timestamp": 1710751820529,
     "user": {
      "displayName": "橘浩久",
      "userId": "05113735281608269160"
     },
     "user_tz": -540
    },
    "id": "TUmtLM2zv0_d",
    "outputId": "d8b59a5c-139e-44eb-df96-6dab13158128"
   },
   "outputs": [
    {
     "data": {
      "text/plain": [
       "(110, 84, 'high')"
      ]
     },
     "execution_count": 4,
     "metadata": {},
     "output_type": "execute_result"
    }
   ],
   "source": [
    "bpjudge(110, 84)"
   ]
  },
  {
   "cell_type": "markdown",
   "metadata": {
    "id": "Wn4QSOcZvnSQ"
   },
   "source": [
    "□1-5. 血圧値が63mmhg, 125mmhgのとき，bpjudge関数で血圧判定せよ。"
   ]
  },
  {
   "cell_type": "code",
   "execution_count": 5,
   "metadata": {
    "colab": {
     "base_uri": "https://localhost:8080/"
    },
    "executionInfo": {
     "elapsed": 246,
     "status": "ok",
     "timestamp": 1710751888121,
     "user": {
      "displayName": "橘浩久",
      "userId": "05113735281608269160"
     },
     "user_tz": -540
    },
    "id": "QdnaKe_lv1zO",
    "outputId": "3aa8f060-0c0f-4b9d-d468-3a0d5f1b3211"
   },
   "outputs": [
    {
     "data": {
      "text/plain": [
       "(125, 63, 'normal high')"
      ]
     },
     "execution_count": 5,
     "metadata": {},
     "output_type": "execute_result"
    }
   ],
   "source": [
    "bpjudge(63, 125)"
   ]
  },
  {
   "cell_type": "markdown",
   "metadata": {
    "id": "dWvmzlnYvpPb"
   },
   "source": [
    "□1-6. 血圧値が100mmhg, 169mmhgのとき，bpjudge関数で血圧判定せよ。"
   ]
  },
  {
   "cell_type": "code",
   "execution_count": 6,
   "metadata": {
    "colab": {
     "base_uri": "https://localhost:8080/"
    },
    "executionInfo": {
     "elapsed": 245,
     "status": "ok",
     "timestamp": 1710751917480,
     "user": {
      "displayName": "橘浩久",
      "userId": "05113735281608269160"
     },
     "user_tz": -540
    },
    "id": "rXCP2TEYv2lV",
    "outputId": "e6d6bd70-a390-40d6-dc68-59a466ece5e9"
   },
   "outputs": [
    {
     "data": {
      "text/plain": [
       "(169, 100, 'high II')"
      ]
     },
     "execution_count": 6,
     "metadata": {},
     "output_type": "execute_result"
    }
   ],
   "source": [
    "bpjudge(100, 169)"
   ]
  },
  {
   "cell_type": "markdown",
   "metadata": {
    "id": "ib4SLiUVw8fa"
   },
   "source": [
    "□1-7. 血圧値が89mmhg, 143mmhgのとき，bpjudge関数で血圧判定せよ。"
   ]
  },
  {
   "cell_type": "code",
   "execution_count": 7,
   "metadata": {
    "colab": {
     "base_uri": "https://localhost:8080/"
    },
    "executionInfo": {
     "elapsed": 280,
     "status": "ok",
     "timestamp": 1710752060127,
     "user": {
      "displayName": "橘浩久",
      "userId": "05113735281608269160"
     },
     "user_tz": -540
    },
    "id": "BWTwcK3JtIGx",
    "outputId": "87b730af-3e59-4a57-fca6-3e3016116b78"
   },
   "outputs": [
    {
     "data": {
      "text/plain": [
       "(143, 89, 'high I')"
      ]
     },
     "execution_count": 7,
     "metadata": {},
     "output_type": "execute_result"
    }
   ],
   "source": [
    "bpjudge(89, 143)"
   ]
  },
  {
   "cell_type": "markdown",
   "metadata": {},
   "source": [
    "#### ■2. 与えられた辞書について，以下の問題に答えよ。\n",
    "\n",
    "下の辞書はあるクラスの，aさん, bさん, cさん, ... の解剖学・生理学・運動学の各点数をリストにした値（リスト）で作成した辞書である。すなわちキーはクラスの学生の名前`'a'`, `'b'`, `'c'`, ... が入っており，それぞれのキー（名前）に対応する値は `[解剖学の点数, 生理学の点数, 運動学の点数]`というリストになっている。リストの中にある`None`は点数の記入漏れである。また，mさんとrさんの２人の情報も記入漏れしている。\n",
    "\n",
    "□2-1. 下のセルを実行して変数`tensu`に辞書を読み込め："
   ]
  },
  {
   "cell_type": "code",
   "execution_count": 8,
   "metadata": {},
   "outputs": [],
   "source": [
    "tensu = {'a': [69, 16, 93],\n",
    "         'b': [50, 68, 26],\n",
    "         'c': [76, 95, 78],\n",
    "         'd': [73, 76, 73],\n",
    "         'e': [73, None, 51],\n",
    "         'f': [56, 87, 93],\n",
    "         'g': [50, 58, 84],\n",
    "         'h': [41, 46, 99],\n",
    "         'i': [36, 20, 35],\n",
    "         'j': [75, 43, 48],\n",
    "         'k': [74, 58, 59],\n",
    "         'l': [89, 16, 27],\n",
    "         'n': [51, 45, 90],\n",
    "         'o': [None, 42, 69],\n",
    "         'p': [42, 51, 77],\n",
    "         'q': [59, 97, 28],\n",
    "         's': [86, 58, 97],\n",
    "         't': [27, 68, 62],\n",
    "         'u': [95, 99, 45],\n",
    "         'v': [30, 50, 39],\n",
    "         'w': [68, 36, None],\n",
    "         'x': [71, 23, 55],\n",
    "         'y': [86, 60, 60],'z': [96, 91, 66]}"
   ]
  },
  {
   "cell_type": "markdown",
   "metadata": {},
   "source": [
    "□2-2. 以下の２名の記入漏れの情報を辞書`tensu`に付け加え，`print`関数を用いて`tensu`の内容を表示せよ。\n",
    "\n",
    "- mさん（キー:`m`）は解剖学が56点, 生理学が77点, 運動学が34点であった。\n",
    "- rさん（キー:`r`）は解剖学が83点, 生理学が65点, 運動学が67点であった。"
   ]
  },
  {
   "cell_type": "code",
   "execution_count": 9,
   "metadata": {},
   "outputs": [
    {
     "name": "stdout",
     "output_type": "stream",
     "text": [
      "{'a': [69, 16, 93], 'b': [50, 68, 26], 'c': [76, 95, 78], 'd': [73, 76, 73], 'e': [73, None, 51], 'f': [56, 87, 93], 'g': [50, 58, 84], 'h': [41, 46, 99], 'i': [36, 20, 35], 'j': [75, 43, 48], 'k': [74, 58, 59], 'l': [89, 16, 27], 'n': [51, 45, 90], 'o': [None, 42, 69], 'p': [42, 51, 77], 'q': [59, 97, 28], 's': [86, 58, 97], 't': [27, 68, 62], 'u': [95, 99, 45], 'v': [30, 50, 39], 'w': [68, 36, None], 'x': [71, 23, 55], 'y': [86, 60, 60], 'z': [96, 91, 66], 'm': [56, 77, 34], 'r': [83, 65, 67]}\n"
     ]
    }
   ],
   "source": [
    "tensu['m'] = [56, 77, 34]\n",
    "tensu['r'] = [83, 65, 67]\n",
    "print(tensu)"
   ]
  },
  {
   "cell_type": "markdown",
   "metadata": {},
   "source": [
    "□2-3. eさんの点数一覧を`print`関数を用いて表示せよ。"
   ]
  },
  {
   "cell_type": "code",
   "execution_count": 10,
   "metadata": {},
   "outputs": [
    {
     "data": {
      "text/plain": [
       "[73, None, 51]"
      ]
     },
     "execution_count": 10,
     "metadata": {},
     "output_type": "execute_result"
    }
   ],
   "source": [
    "tensu['e']"
   ]
  },
  {
   "cell_type": "markdown",
   "metadata": {},
   "source": [
    "□2-4. eさんの生理学の点数が`None`になっているが，これは記入漏れである。実際には30点であった。これを修正するには，\n",
    "```\n",
    "tensu['e'][1] = 30\n",
    "```\n",
    "とする。意味は以下の通りである：\n",
    "\n",
    "- `tensu['e']`はeさんの点数リストである。\n",
    "- `tensu['e'][1]`は辞書`tensu`のキー`'e'`の２番目（インデックス1）を指定している＝eさんの生理学の点数。\n",
    "\n",
    "したがって，`tensu['e'][1] = 30`はeさん（キー:`'e'`）の生理学の点数（`None`）を30に置き換えるということである。これを下のセルで実行し，`print`関数を用いて，eさんの点数リストと辞書`tensu`の内容を表示せよ。"
   ]
  },
  {
   "cell_type": "code",
   "execution_count": 11,
   "metadata": {},
   "outputs": [
    {
     "name": "stdout",
     "output_type": "stream",
     "text": [
      "[73, 30, 51]\n",
      "{'a': [69, 16, 93], 'b': [50, 68, 26], 'c': [76, 95, 78], 'd': [73, 76, 73], 'e': [73, 30, 51], 'f': [56, 87, 93], 'g': [50, 58, 84], 'h': [41, 46, 99], 'i': [36, 20, 35], 'j': [75, 43, 48], 'k': [74, 58, 59], 'l': [89, 16, 27], 'n': [51, 45, 90], 'o': [None, 42, 69], 'p': [42, 51, 77], 'q': [59, 97, 28], 's': [86, 58, 97], 't': [27, 68, 62], 'u': [95, 99, 45], 'v': [30, 50, 39], 'w': [68, 36, None], 'x': [71, 23, 55], 'y': [86, 60, 60], 'z': [96, 91, 66], 'm': [56, 77, 34], 'r': [83, 65, 67]}\n"
     ]
    }
   ],
   "source": [
    "tensu['e'][1] = 30\n",
    "print(tensu['e'])\n",
    "print(tensu)"
   ]
  },
  {
   "cell_type": "markdown",
   "metadata": {},
   "source": [
    "□2-5. oさんとwさんの点数にも記入漏れがある。oさんとwさんの点数一覧を`print`関数を用いて表示して確認せよ。"
   ]
  },
  {
   "cell_type": "code",
   "execution_count": 12,
   "metadata": {},
   "outputs": [
    {
     "name": "stdout",
     "output_type": "stream",
     "text": [
      "[None, 42, 69]\n",
      "[68, 36, None]\n"
     ]
    }
   ],
   "source": [
    "print(tensu['o'])\n",
    "print(tensu['w'])"
   ]
  },
  {
   "cell_type": "markdown",
   "metadata": {},
   "source": [
    "□2-6. oさんの解剖学の点数は実際には34点，wさんの運動学の点数は実際には26点であった。2-4と同様の方法でそれらを修正し，`print`関数を用いて，oさんとwさんの点数リストを表示せよ。"
   ]
  },
  {
   "cell_type": "code",
   "execution_count": 13,
   "metadata": {},
   "outputs": [
    {
     "name": "stdout",
     "output_type": "stream",
     "text": [
      "[34, 42, 69]\n",
      "[68, 36, 26]\n"
     ]
    }
   ],
   "source": [
    "tensu['o'][0] = 34\n",
    "tensu['w'][2] = 26\n",
    "print(tensu['o'])\n",
    "print(tensu['w'])"
   ]
  },
  {
   "cell_type": "markdown",
   "metadata": {},
   "source": [
    "□2-7. 各人の３科目合計点を確かめたい。次のように出力されるように，下のセルのコードを埋めよ。\n",
    "```\n",
    "aの合計点は178\n",
    "bの合計点は144\n",
    "cの合計点は249\n",
    "dの合計点は222\n",
    "...省略...\n",
    "```"
   ]
  },
  {
   "cell_type": "code",
   "execution_count": 14,
   "metadata": {},
   "outputs": [
    {
     "name": "stdout",
     "output_type": "stream",
     "text": [
      "aの合計点は178\n",
      "bの合計点は144\n",
      "cの合計点は249\n",
      "dの合計点は222\n",
      "eの合計点は154\n",
      "fの合計点は236\n",
      "gの合計点は192\n",
      "hの合計点は186\n",
      "iの合計点は91\n",
      "jの合計点は166\n",
      "kの合計点は191\n",
      "lの合計点は132\n",
      "nの合計点は186\n",
      "oの合計点は145\n",
      "pの合計点は170\n",
      "qの合計点は184\n",
      "sの合計点は241\n",
      "tの合計点は157\n",
      "uの合計点は239\n",
      "vの合計点は119\n",
      "wの合計点は130\n",
      "xの合計点は149\n",
      "yの合計点は206\n",
      "zの合計点は253\n",
      "mの合計点は167\n",
      "rの合計点は215\n"
     ]
    }
   ],
   "source": [
    "for k in tensu.keys():\n",
    "    goukei = sum(tensu[k])#ここを埋めよ\n",
    "    print(f'{k}の合計点は{goukei}')"
   ]
  },
  {
   "cell_type": "code",
   "execution_count": null,
   "metadata": {},
   "outputs": [],
   "source": []
  }
 ],
 "metadata": {
  "colab": {
   "provenance": []
  },
  "kernelspec": {
   "display_name": "Python 3 (ipykernel)",
   "language": "python",
   "name": "python3"
  },
  "language_info": {
   "codemirror_mode": {
    "name": "ipython",
    "version": 3
   },
   "file_extension": ".py",
   "mimetype": "text/x-python",
   "name": "python",
   "nbconvert_exporter": "python",
   "pygments_lexer": "ipython3",
   "version": "3.11.5"
  }
 },
 "nbformat": 4,
 "nbformat_minor": 4
}
