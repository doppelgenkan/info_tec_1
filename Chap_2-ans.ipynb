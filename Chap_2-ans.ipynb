{
 "cells": [
  {
   "cell_type": "markdown",
   "metadata": {},
   "source": [
    "# 2の課題"
   ]
  },
  {
   "cell_type": "markdown",
   "metadata": {},
   "source": [
    "学生番号："
   ]
  },
  {
   "cell_type": "markdown",
   "metadata": {},
   "source": [
    "氏　　名："
   ]
  },
  {
   "cell_type": "markdown",
   "metadata": {},
   "source": [
    "#### ■1.  身長178.5cm、体重69.4kgwの人のBMIを求めよ:"
   ]
  },
  {
   "cell_type": "code",
   "execution_count": 1,
   "metadata": {},
   "outputs": [
    {
     "data": {
      "text/plain": [
       "21.781261524217534"
      ]
     },
     "execution_count": 1,
     "metadata": {},
     "output_type": "execute_result"
    }
   ],
   "source": [
    "69.4 / (178.5/100)**2"
   ]
  },
  {
   "cell_type": "markdown",
   "metadata": {},
   "source": [
    "> $\\rm{BMI}=\\frac{体重}{身長^2}$　ただし，体重の単位は $\\rm{kgf}$，身長の単位は $\\rm{m}。$"
   ]
  },
  {
   "cell_type": "markdown",
   "metadata": {},
   "source": [
    "#### ■2．131072ミリ秒について、分と秒で求めたい。次の手順で求めよ。"
   ]
  },
  {
   "cell_type": "markdown",
   "metadata": {},
   "source": [
    "□2-1．131072ミリ秒の秒を求めよ："
   ]
  },
  {
   "cell_type": "code",
   "execution_count": 2,
   "metadata": {},
   "outputs": [
    {
     "data": {
      "text/plain": [
       "131.072"
      ]
     },
     "execution_count": 2,
     "metadata": {},
     "output_type": "execute_result"
    }
   ],
   "source": [
    "131072 / 1000"
   ]
  },
  {
   "cell_type": "markdown",
   "metadata": {},
   "source": [
    "> ヒント：ミリ( m )は$\\frac{1}{1000}$のことだ。"
   ]
  },
  {
   "cell_type": "markdown",
   "metadata": {},
   "source": [
    "□2-2．131072ミリ秒の分を求めよ："
   ]
  },
  {
   "cell_type": "code",
   "execution_count": 3,
   "metadata": {},
   "outputs": [
    {
     "data": {
      "text/plain": [
       "2.0"
      ]
     },
     "execution_count": 3,
     "metadata": {},
     "output_type": "execute_result"
    }
   ],
   "source": [
    "131072 / 1000 // 60"
   ]
  },
  {
   "cell_type": "markdown",
   "metadata": {},
   "source": [
    "□2-3. 131072ミリ秒を何分何秒にしたときの秒を求めよ："
   ]
  },
  {
   "cell_type": "code",
   "execution_count": 4,
   "metadata": {},
   "outputs": [
    {
     "data": {
      "text/plain": [
       "11.072000000000003"
      ]
     },
     "execution_count": 4,
     "metadata": {},
     "output_type": "execute_result"
    }
   ],
   "source": [
    "(131072 / 1000) % 60"
   ]
  },
  {
   "cell_type": "markdown",
   "metadata": {},
   "source": [
    "□2-4．結局131072ミリ秒は何分何秒か？下のマークダウンセルに答えよ："
   ]
  },
  {
   "cell_type": "markdown",
   "metadata": {},
   "source": [
    "2分11.072秒"
   ]
  },
  {
   "cell_type": "markdown",
   "metadata": {},
   "source": [
    "#### ■3. 直円錐について以下の計算を行いなさい。\n",
    "直円錐の底面の半径を$r$，高さを$h$とする。そのとき，\n",
    "$$\n",
    "体積=\\frac{1}{3}\\times h\\times \\pi r^2\n",
    "$$\n",
    "である。上の公式を用いて，底面半径3, 高さ5の直円錐の体積を求めよう。\n",
    "\n",
    "□3-1. `math`モジュールをインポートせよ："
   ]
  },
  {
   "cell_type": "code",
   "execution_count": 1,
   "metadata": {},
   "outputs": [],
   "source": [
    "import math"
   ]
  },
  {
   "cell_type": "markdown",
   "metadata": {},
   "source": [
    "□3-2. 直円錐の体積を求めよ："
   ]
  },
  {
   "cell_type": "code",
   "execution_count": 2,
   "metadata": {},
   "outputs": [
    {
     "data": {
      "text/plain": [
       "47.12388980384689"
      ]
     },
     "execution_count": 2,
     "metadata": {},
     "output_type": "execute_result"
    }
   ],
   "source": [
    "(1/3) * 5 * math.pi * 3**2"
   ]
  },
  {
   "cell_type": "code",
   "execution_count": null,
   "metadata": {},
   "outputs": [],
   "source": []
  }
 ],
 "metadata": {
  "kernelspec": {
   "display_name": "Python 3 (ipykernel)",
   "language": "python",
   "name": "python3"
  },
  "language_info": {
   "codemirror_mode": {
    "name": "ipython",
    "version": 3
   },
   "file_extension": ".py",
   "mimetype": "text/x-python",
   "name": "python",
   "nbconvert_exporter": "python",
   "pygments_lexer": "ipython3",
   "version": "3.11.5"
  }
 },
 "nbformat": 4,
 "nbformat_minor": 4
}
