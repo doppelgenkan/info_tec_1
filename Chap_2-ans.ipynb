{
 "cells": [
  {
   "cell_type": "markdown",
   "metadata": {
    "id": "x9SOUBbu5EiD"
   },
   "source": [
    "# 2の課題"
   ]
  },
  {
   "cell_type": "markdown",
   "metadata": {
    "id": "2l6zhoOT5EiE"
   },
   "source": [
    "学生番号："
   ]
  },
  {
   "cell_type": "markdown",
   "metadata": {
    "id": "APRzfZ0G5EiF"
   },
   "source": [
    "氏　　名："
   ]
  },
  {
   "cell_type": "markdown",
   "metadata": {
    "id": "my-pwqAM5EiF"
   },
   "source": [
    "#### ■1.  身長178.5cm、体重69.4kgwの人のBMIを求めよ:"
   ]
  },
  {
   "cell_type": "code",
   "execution_count": null,
   "metadata": {
    "id": "1LKjoUpn5EiF",
    "outputId": "9287a04b-b2eb-4940-f7fb-893e73758263"
   },
   "outputs": [
    {
     "data": {
      "text/plain": [
       "21.781261524217534"
      ]
     },
     "execution_count": 1,
     "metadata": {},
     "output_type": "execute_result"
    }
   ],
   "source": [
    "69.4 / (178.5/100)**2"
   ]
  },
  {
   "cell_type": "markdown",
   "metadata": {
    "id": "ae_QfhSS5EiG"
   },
   "source": [
    "> $\\rm{BMI}=\\frac{体重}{身長^2}$　ただし，体重の単位は $\\rm{kgf}$，身長の単位は $\\rm{m}。$"
   ]
  },
  {
   "cell_type": "markdown",
   "metadata": {
    "id": "-6iScrnR5EiG"
   },
   "source": [
    "#### ■2．131072ミリ秒について、分と秒で求めたい。次の手順で求めよ。"
   ]
  },
  {
   "cell_type": "markdown",
   "metadata": {
    "id": "V6oYbiaQ5EiG"
   },
   "source": [
    "□2-1．131072ミリ秒の秒を求めよ："
   ]
  },
  {
   "cell_type": "code",
   "execution_count": null,
   "metadata": {
    "id": "L_wikQ9b5EiG",
    "outputId": "fe611699-374b-4927-b0b7-925018ca0699"
   },
   "outputs": [
    {
     "data": {
      "text/plain": [
       "131.072"
      ]
     },
     "execution_count": 2,
     "metadata": {},
     "output_type": "execute_result"
    }
   ],
   "source": [
    "131072 / 1000"
   ]
  },
  {
   "cell_type": "markdown",
   "metadata": {
    "id": "f_ONV6E65EiG"
   },
   "source": [
    "> ヒント：ミリ( m )は$\\frac{1}{1000}$のことだ。"
   ]
  },
  {
   "cell_type": "markdown",
   "metadata": {
    "id": "UzznKsow5EiH"
   },
   "source": [
    "□2-2．131072ミリ秒の分を求めよ："
   ]
  },
  {
   "cell_type": "code",
   "execution_count": null,
   "metadata": {
    "id": "MM_-3lXM5EiH",
    "outputId": "01c12123-eec4-422b-8591-5848e2bd7b0b"
   },
   "outputs": [
    {
     "data": {
      "text/plain": [
       "2.0"
      ]
     },
     "execution_count": 3,
     "metadata": {},
     "output_type": "execute_result"
    }
   ],
   "source": [
    "131072 / 1000 // 60"
   ]
  },
  {
   "cell_type": "markdown",
   "metadata": {
    "id": "n-8H0PtF5EiH"
   },
   "source": [
    "□2-3. 131072ミリ秒を何分何秒にしたときの秒を求めよ："
   ]
  },
  {
   "cell_type": "code",
   "execution_count": null,
   "metadata": {
    "id": "PG4R9m2Z5EiH",
    "outputId": "c6158241-9175-4cdb-b65d-1c3b250cd425"
   },
   "outputs": [
    {
     "data": {
      "text/plain": [
       "11.072000000000003"
      ]
     },
     "execution_count": 4,
     "metadata": {},
     "output_type": "execute_result"
    }
   ],
   "source": [
    "(131072 / 1000) % 60"
   ]
  },
  {
   "cell_type": "markdown",
   "metadata": {
    "id": "sZGpys4-5EiH"
   },
   "source": [
    "□2-4．結局131072ミリ秒は何分何秒か？下のマークダウンセルに答えよ："
   ]
  },
  {
   "cell_type": "markdown",
   "metadata": {
    "id": "MEzFnkY55EiH"
   },
   "source": [
    "2分11.072秒"
   ]
  },
  {
   "cell_type": "markdown",
   "metadata": {
    "id": "ppiIeHaY5EiH"
   },
   "source": [
    "#### ■3. 直円錐について以下の計算を行いなさい。\n",
    "直円錐の底面の半径を$r$，高さを$h$とする。そのとき，\n",
    "$$\n",
    "体積=\\frac{1}{3}\\times h\\times \\pi r^2\n",
    "$$\n",
    "である。上の公式を用いて，底面半径3, 高さ5の直円錐の体積を求めよう。\n",
    "\n",
    "□3-1. `math`モジュールをインポートせよ："
   ]
  },
  {
   "cell_type": "code",
   "execution_count": null,
   "metadata": {
    "id": "XgjTBrIb5EiH"
   },
   "outputs": [],
   "source": [
    "import math"
   ]
  },
  {
   "cell_type": "markdown",
   "metadata": {
    "id": "HlSlkFaf5EiI"
   },
   "source": [
    "□3-2. 直円錐の体積を求めよ："
   ]
  },
  {
   "cell_type": "code",
   "execution_count": null,
   "metadata": {
    "id": "aoaVe4Dv5EiI",
    "outputId": "f302495a-50a4-4b47-9e25-fdd34657b4da",
    "scrolled": true
   },
   "outputs": [
    {
     "data": {
      "text/plain": [
       "47.12388980384689"
      ]
     },
     "execution_count": 2,
     "metadata": {},
     "output_type": "execute_result"
    }
   ],
   "source": [
    "(1/3) * 5 * math.pi * 3**2"
   ]
  },
  {
   "cell_type": "code",
   "execution_count": null,
   "metadata": {
    "id": "wzhxYfCu5EiI"
   },
   "outputs": [],
   "source": []
  }
 ],
 "metadata": {
  "colab": {
   "provenance": []
  },
  "kernelspec": {
   "display_name": "Python 3 (ipykernel)",
   "language": "python",
   "name": "python3"
  },
  "language_info": {
   "codemirror_mode": {
    "name": "ipython",
    "version": 3
   },
   "file_extension": ".py",
   "mimetype": "text/x-python",
   "name": "python",
   "nbconvert_exporter": "python",
   "pygments_lexer": "ipython3",
   "version": "3.11.5"
  }
 },
 "nbformat": 4,
 "nbformat_minor": 4
}
