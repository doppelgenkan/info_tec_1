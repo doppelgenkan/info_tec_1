{
 "cells": [
  {
   "cell_type": "code",
   "execution_count": 5,
   "id": "57419dd6-4d25-4b9d-b828-3f74be1f49cb",
   "metadata": {},
   "outputs": [
    {
     "name": "stdout",
     "output_type": "stream",
     "text": [
      "sorted 関数の返値: [10, 20, 30, 40, 50, 60]\n",
      "sort メソッドの返値: None\n",
      "[30, 50, 10, 20, 40, 60]\n"
     ]
    }
   ],
   "source": [
    "numbers = [30, 50, 10, 20, 40, 60]\n",
    "numbers1 = sorted(numbers)\n",
    "print('sorted 関数の返値:', numbers1)\n",
    "#numbers2 = numbers.sort()\n",
    "print('sort メソッドの返値:', numbers2)\n",
    "print(numbers)"
   ]
  },
  {
   "cell_type": "code",
   "execution_count": 7,
   "id": "1eca09ed-1029-461a-bb72-6e788ae19310",
   "metadata": {},
   "outputs": [],
   "source": [
    "numbers2 = numbers*2"
   ]
  },
  {
   "cell_type": "code",
   "execution_count": 8,
   "id": "53d5573e-7038-45e2-9ce4-46260474368a",
   "metadata": {},
   "outputs": [
    {
     "data": {
      "text/plain": [
       "[30, 50, 10, 20, 40, 60, 30, 50, 10, 20, 40, 60]"
      ]
     },
     "execution_count": 8,
     "metadata": {},
     "output_type": "execute_result"
    }
   ],
   "source": [
    "numbers2"
   ]
  },
  {
   "cell_type": "code",
   "execution_count": 9,
   "id": "39fde0f2-9696-4fc0-a185-8bd393a0a552",
   "metadata": {},
   "outputs": [
    {
     "data": {
      "text/plain": [
       "[30, 50, 10, 20, 40, 60]"
      ]
     },
     "execution_count": 9,
     "metadata": {},
     "output_type": "execute_result"
    }
   ],
   "source": [
    "numbers"
   ]
  },
  {
   "cell_type": "code",
   "execution_count": 15,
   "id": "e862bebb-88d0-4819-a2cb-d6fea6379266",
   "metadata": {},
   "outputs": [
    {
     "data": {
      "text/plain": [
       "[[1, 2, 3],\n",
       " [3, 4, 5],\n",
       " [4, 5, 6],\n",
       " [1, 2, 3],\n",
       " [3, 4, 5],\n",
       " [4, 5, 6],\n",
       " [1, 2, 3],\n",
       " [3, 4, 5],\n",
       " [4, 5, 6],\n",
       " [1, 2, 3],\n",
       " [3, 4, 5],\n",
       " [4, 5, 6],\n",
       " [1, 2, 3],\n",
       " [3, 4, 5],\n",
       " [4, 5, 6],\n",
       " [1, 2, 3],\n",
       " [3, 4, 5],\n",
       " [4, 5, 6],\n",
       " [1, 2, 3],\n",
       " [3, 4, 5],\n",
       " [4, 5, 6],\n",
       " [1, 2, 3],\n",
       " [3, 4, 5],\n",
       " [4, 5, 6],\n",
       " [1, 2, 3],\n",
       " [3, 4, 5],\n",
       " [4, 5, 6],\n",
       " [1, 2, 3],\n",
       " [3, 4, 5],\n",
       " [4, 5, 6],\n",
       " [1, 2, 3],\n",
       " [3, 4, 5],\n",
       " [4, 5, 6],\n",
       " [1, 2, 3],\n",
       " [3, 4, 5],\n",
       " [4, 5, 6],\n",
       " [1, 2, 3],\n",
       " [3, 4, 5],\n",
       " [4, 5, 6],\n",
       " [1, 2, 3],\n",
       " [3, 4, 5],\n",
       " [4, 5, 6],\n",
       " [1, 2, 3],\n",
       " [3, 4, 5],\n",
       " [4, 5, 6],\n",
       " [1, 2, 3],\n",
       " [3, 4, 5],\n",
       " [4, 5, 6],\n",
       " [1, 2, 3],\n",
       " [3, 4, 5],\n",
       " [4, 5, 6],\n",
       " [1, 2, 3],\n",
       " [3, 4, 5],\n",
       " [4, 5, 6],\n",
       " [1, 2, 3],\n",
       " [3, 4, 5],\n",
       " [4, 5, 6],\n",
       " [1, 2, 3],\n",
       " [3, 4, 5],\n",
       " [4, 5, 6],\n",
       " [1, 2, 3],\n",
       " [3, 4, 5],\n",
       " [4, 5, 6],\n",
       " [1, 2, 3],\n",
       " [3, 4, 5],\n",
       " [4, 5, 6]]"
      ]
     },
     "execution_count": 15,
     "metadata": {},
     "output_type": "execute_result"
    }
   ],
   "source": [
    "[[1,2,3], [3,4,5], [4,5,6]]*22"
   ]
  },
  {
   "cell_type": "code",
   "execution_count": null,
   "id": "c71324b3-86d7-49ed-87fd-81c0357e3cc6",
   "metadata": {},
   "outputs": [],
   "source": []
  }
 ],
 "metadata": {
  "kernelspec": {
   "display_name": "Python 3 (ipykernel)",
   "language": "python",
   "name": "python3"
  },
  "language_info": {
   "codemirror_mode": {
    "name": "ipython",
    "version": 3
   },
   "file_extension": ".py",
   "mimetype": "text/x-python",
   "name": "python",
   "nbconvert_exporter": "python",
   "pygments_lexer": "ipython3",
   "version": "3.11.5"
  }
 },
 "nbformat": 4,
 "nbformat_minor": 5
}
